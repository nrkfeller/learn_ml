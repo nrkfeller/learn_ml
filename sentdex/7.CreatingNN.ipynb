{
 "cells": [
  {
   "cell_type": "code",
   "execution_count": 1,
   "metadata": {
    "collapsed": false
   },
   "outputs": [
    {
     "name": "stdout",
     "output_type": "stream",
     "text": [
      "Extracting /tmp/data/train-images-idx3-ubyte.gz\n",
      "Extracting /tmp/data/train-labels-idx1-ubyte.gz\n",
      "Extracting /tmp/data/t10k-images-idx3-ubyte.gz\n",
      "Extracting /tmp/data/t10k-labels-idx1-ubyte.gz\n"
     ]
    }
   ],
   "source": [
    "import tensorflow as tf\n",
    "from tensorflow.examples.tutorials.mnist import input_data\n",
    "mnist = input_data.read_data_sets(\"/tmp/data/\", one_hot = True)"
   ]
  },
  {
   "cell_type": "code",
   "execution_count": 2,
   "metadata": {
    "collapsed": true
   },
   "outputs": [],
   "source": [
    "n_nodes_hl1 = 500\n",
    "n_nodes_hl2 = 500\n",
    "n_nodes_hl3 = 500\n",
    "n_classes = 10\n",
    "batch_size = 100"
   ]
  },
  {
   "cell_type": "code",
   "execution_count": 3,
   "metadata": {
    "collapsed": true
   },
   "outputs": [],
   "source": [
    "x = tf.placeholder('float', [None, 784])\n",
    "y = tf.placeholder('float')"
   ]
  },
  {
   "cell_type": "code",
   "execution_count": 25,
   "metadata": {
    "collapsed": true
   },
   "outputs": [],
   "source": [
    "def neural_network(data):\n",
    "    weights1 = tf.Variable(tf.random_normal([784, n_nodes_hl1]))\n",
    "    bias1 = tf.Variable(tf.random_normal([n_nodes_hl1]))\n",
    "    \n",
    "    weights2 = tf.Variable(tf.random_normal([n_nodes_hl1, n_nodes_hl2]))\n",
    "    bias2 = tf.Variable(tf.random_normal([n_nodes_hl2]))\n",
    "    \n",
    "    weights3 = tf.Variable(tf.random_normal([n_nodes_hl2, n_nodes_hl3]))\n",
    "    bias3 = tf.Variable(tf.random_normal([n_nodes_hl3]))\n",
    "    \n",
    "    weights_out = tf.Variable(tf.random_normal([n_nodes_hl3, n_classes]))\n",
    "    bias_out = tf.Variable(tf.random_normal([n_classes]))\n",
    "    \n",
    "    layer1 = tf.add(tf.matmul(data, weights1), bias1)\n",
    "    layer1 = tf.nn.relu(layer1)\n",
    "    \n",
    "    layer2 = tf.add(tf.matmul(layer1, weights2), bias2)\n",
    "    layer2 = tf.nn.relu(layer2)\n",
    "    \n",
    "    layer3 = tf.add(tf.matmul(layer2, weights3), bias3)\n",
    "    layer3 = tf.nn.relu(layer3)\n",
    "    \n",
    "    layer_out = tf.add(tf.matmul(layer3, weights_out),bias_out)\n",
    "    \n",
    "    return layer_out"
   ]
  },
  {
   "cell_type": "code",
   "execution_count": 19,
   "metadata": {
    "collapsed": false
   },
   "outputs": [],
   "source": [
    "def train_nn(x):\n",
    "    prediction = neural_network(x)\n",
    "    # difference between prediction and known labels\n",
    "    cost = tf.reduce_mean(tf.nn.softmax_cross_entropy_with_logits(logits=prediction, labels=y))\n",
    "    \n",
    "    # AdamOptimizer is like SGD -  learning rate defaults as 0.001\n",
    "    optimizer = tf.train.AdamOptimizer().minimize(cost)\n",
    "    \n",
    "    # cycles of feedforward and backproping weights\n",
    "    hm_epochs = 10\n",
    "    \n",
    "    with tf.Session() as sess:\n",
    "        sess.run(tf.global_variables_initializer())\n",
    "        \n",
    "        for epoch in range(hm_epochs):\n",
    "            epoch_loss = 0\n",
    "            \n",
    "            for _ in range(int(mnist.train.num_examples/batch_size)):\n",
    "                # data , labels\n",
    "                epoch_x, epoch_y = mnist.train.next_batch(batch_size)\n",
    "                _, c = sess.run([optimizer, cost], feed_dict={x:epoch_x, y:epoch_y})\n",
    "                epoch_loss += c\n",
    "            print('Epoch', epoch, 'completed out of', hm_epochs, 'loss', epoch_loss)\n",
    "        \n",
    "        # hoping that the hone hots are the same\n",
    "        correct = tf.equal(tf.argmax(prediction,1 ), tf.argmax(y, 1))\n",
    "        \n",
    "        # cast correct to a float and this is the accuracy\n",
    "        accuracy = tf.reduce_mean(tf.cast(correct, 'float'))\n",
    "        print('Accuracy', accuracy.eval({x:mnist.test.images, y:mnist.test.labels}))"
   ]
  },
  {
   "cell_type": "code",
   "execution_count": 20,
   "metadata": {
    "collapsed": false
   },
   "outputs": [
    {
     "name": "stdout",
     "output_type": "stream",
     "text": [
      "Epoch 0 completed out of 10 loss 1974877.21759\n",
      "Epoch 1 completed out of 10 loss 413722.918957\n",
      "Epoch 2 completed out of 10 loss 227079.632043\n",
      "Epoch 3 completed out of 10 loss 132923.453069\n",
      "Epoch 4 completed out of 10 loss 80562.2044011\n",
      "Epoch 5 completed out of 10 loss 51550.9421525\n",
      "Epoch 6 completed out of 10 loss 34063.4316802\n",
      "Epoch 7 completed out of 10 loss 25666.4059559\n",
      "Epoch 8 completed out of 10 loss 19054.1953\n",
      "Epoch 9 completed out of 10 loss 16344.1521182\n",
      "Accuracy 0.9531\n"
     ]
    }
   ],
   "source": [
    "train_nn(x)"
   ]
  },
  {
   "cell_type": "code",
   "execution_count": 24,
   "metadata": {
    "collapsed": false
   },
   "outputs": [
    {
     "name": "stdout",
     "output_type": "stream",
     "text": [
      "[ 0  1  2  3  4  5  6  7  8  9 10 11 12 13 14 15 16 17 18 19]\n",
      "[20 21 22 23 24 25 26 27 28 29 30 31 32 33 34 35 36 37 38 39]\n",
      "[40 41 42 43 44 45 46 47 48 49 50 51 52 53 54 55 56 57 58 59]\n",
      "[60 61 62 63 64 65 66 67 68 69 70 71 72 73 74 75 76 77 78 79]\n",
      "[80 81 82 83 84 85 86 87 88 89 90 91 92 93 94 95 96 97 98 99]\n"
     ]
    }
   ],
   "source": [
    "import numpy as np\n",
    "a = np.arange(100)\n",
    "batch_size = 20\n",
    "start = 0\n",
    "stop = batch_size\n",
    "for i in range(len(a)//batch_size):\n",
    "    print(a[start:stop])\n",
    "    start +=batch_size\n",
    "    stop+=batch_size"
   ]
  },
  {
   "cell_type": "code",
   "execution_count": null,
   "metadata": {
    "collapsed": true
   },
   "outputs": [],
   "source": []
  }
 ],
 "metadata": {
  "anaconda-cloud": {},
  "kernelspec": {
   "display_name": "tftut",
   "language": "python",
   "name": "tftut"
  },
  "language_info": {
   "codemirror_mode": {
    "name": "ipython",
    "version": 3
   },
   "file_extension": ".py",
   "mimetype": "text/x-python",
   "name": "python",
   "nbconvert_exporter": "python",
   "pygments_lexer": "ipython3",
   "version": "3.6.0"
  }
 },
 "nbformat": 4,
 "nbformat_minor": 1
}
