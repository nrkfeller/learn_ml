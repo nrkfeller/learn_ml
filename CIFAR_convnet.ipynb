{
 "cells": [
  {
   "cell_type": "markdown",
   "metadata": {},
   "source": [
    "# Convolutional Neural Networks\n",
    "Image classification accross categories. 32x32 rgb\n",
    "### CIFAR\n",
    "Dataset consisting of 60k pictures with 10 classes with 10k of each class. Pratical for testing strategies, because it is large enough to give an idea of a strategies performance and small enough that training the model is fast.\n",
    "### Goal\n",
    "Build a relatively small Convnet that recognizes images.\n",
    "1. Highlight canonical organization of a network.\n",
    "2. Template for organizing larger Convnets.\n",
    "### Tutorial\n",
    "1. Core math components of Convnets.\n",
    "2. Visualization of the network.\n",
    "3. Routine calculations and monitoring.\n",
    "4. Implementation of learning rates and scheduling.\n",
    "5. Prefetching queues for input data to isolate model from disk latency.\n",
    "### Model Architecture\n",
    "Multilayer architecture that alternates between convolutions and non linearities; and ends with a fully connected softmax classifier. Peak performance at 86%.\n",
    "\n",
    "* code at : https://github.com/tensorflow/models/tree/master/tutorials/image/cifar10/\n",
    "\n",
    "##### Model Input\n",
    "CIFAR binary data files are read and cropped to 24x24 pixels.\n",
    "1. tf.random_crop : crops a tensor to a given size. So all inputs are the same.\n",
    "2. tf.image.per_image_standardization(image) : Linear scaling of image to have 0 mean and unit norm. This makes the model insensitive to dynamic ranges.\n",
    "\n",
    "##### Model Training\n",
    "Application of series of random distortions\n",
    "1. Randomly flip the image left and right. (tf.image.random_flip_left_right(image, seed=None)\n",
    "2. Randomly distort image brightness. (tf.image.random_brightness(image, max_delta, seee=None)\n",
    "3. Randomly distort image contrast. (tf.image.random_contrast(image, lower, upper, seed=None)\n",
    "* All of these can be threaded\n",
    "\n",
    "##### Model prediction\n",
    "conv1 - pool1 - norm1 - conv2 - norm2 - pool2 - local3 - local4 - softmax_linear\n",
    "\n",
    "softmax_linear produces logits (reverse of softmax) produces logarithmic probabilities of prediction."
   ]
  },
  {
   "cell_type": "code",
   "execution_count": null,
   "metadata": {
    "collapsed": true
   },
   "outputs": [],
   "source": []
  }
 ],
 "metadata": {
  "anaconda-cloud": {},
  "kernelspec": {
   "display_name": "tftut",
   "language": "python",
   "name": "tftut"
  },
  "language_info": {
   "codemirror_mode": {
    "name": "ipython",
    "version": 3
   },
   "file_extension": ".py",
   "mimetype": "text/x-python",
   "name": "python",
   "nbconvert_exporter": "python",
   "pygments_lexer": "ipython3",
   "version": "3.6.0"
  }
 },
 "nbformat": 4,
 "nbformat_minor": 1
}
