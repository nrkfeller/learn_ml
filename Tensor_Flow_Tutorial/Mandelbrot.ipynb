{
 "cells": [
  {
   "cell_type": "markdown",
   "metadata": {},
   "source": [
    "# Mandelbrot Set\n",
    "### Fc(z) = z^2 + c\n",
    "Happening in the world of complex numbers. Two axes x+yi. i where i^2 = -1.\n",
    "\n",
    "The magnitude of the complex number |a+yi|\n",
    "\n",
    "Take complex number c. fc(z) = z^2 + c.\n",
    "The bahvior of fc when starting with z=0. when c = 1\n",
    "1. a = fc(0) = 1\n",
    "2. b = fc(a) = 2\n",
    "3. c = fc(b) = 5\n",
    "4. d = fc(c) = 26\n",
    "5. e = fc(d) = ...\n",
    "\n",
    "What happens to the magnitude of these numbers? there are 2 options\n",
    "1. The distance from 0 becomes arbitrarily large -> goes to infinity. for example when c = 1\n",
    "2. The distance is bounded. It never gets larger than 2. for example if c = -1\n",
    "\n",
    "When case 2 occurs, c is part of the mandelbrot set!\n",
    "\n",
    "For the famous mandelbrot image. We give it a shade based on how fast the number goes to inifinity. and keep it black if it stays smaller than 2!\n",
    "\n",
    "* obviously we cannot consider guys that have magnitude larger than 2"
   ]
  },
  {
   "cell_type": "code",
   "execution_count": 27,
   "metadata": {
    "collapsed": true
   },
   "outputs": [],
   "source": [
    "# Import libraries for simulation\n",
    "import tensorflow as tf\n",
    "import numpy as np\n",
    "\n",
    "# Imports for visualization\n",
    "import PIL.Image\n",
    "from io import BytesIO\n",
    "from IPython.display import Image, display"
   ]
  },
  {
   "cell_type": "code",
   "execution_count": 28,
   "metadata": {
    "collapsed": true
   },
   "outputs": [],
   "source": [
    "# display the image as jpeg once iterations counts\n",
    "def DisplayFractal(a, fmt='jpeg'):\n",
    "    a_cyclic = (6.28*a/20.0).reshape(list(a.shape)+[1])\n",
    "    img = np.concatenate([10+20*np.cos(a_cyclic),\n",
    "                        30+50*np.sin(a_cyclic),\n",
    "                        155-80*np.cos(a_cyclic)], 2)\n",
    "    img[a==a.max()] = 0\n",
    "    a = img\n",
    "    a = np.uint8(np.clip(a, 0, 255))\n",
    "    f = BytesIO()\n",
    "    PIL.Image.fromarray(a).save(f, fmt)\n",
    "    display(Image(data=f.getvalue()))"
   ]
  },
  {
   "cell_type": "code",
   "execution_count": 29,
   "metadata": {
    "collapsed": true
   },
   "outputs": [],
   "source": [
    "# Use interactive tensorflow session\n",
    "sess = tf.InteractiveSession()"
   ]
  },
  {
   "cell_type": "code",
   "execution_count": 30,
   "metadata": {
    "collapsed": true
   },
   "outputs": [],
   "source": [
    "# we can mix np and tf. use numpy to create 2d array of complex numbers\n",
    "Y,X = np.mgrid[-1.3:1.3:0.005, -2:1:0.005]\n",
    "Z = X+1j*Y"
   ]
  },
  {
   "cell_type": "code",
   "execution_count": 31,
   "metadata": {
    "collapsed": false
   },
   "outputs": [],
   "source": [
    "# Y is from -1.3 to 1.3 in steps of 0.05\n",
    "# X is from -2 to 1 in steps of 0.05\n",
    "# Z is X + jY"
   ]
  },
  {
   "cell_type": "code",
   "execution_count": 38,
   "metadata": {
    "collapsed": true
   },
   "outputs": [],
   "source": [
    "# tf.constant(value, dtype=None, shape=None, name='Const')\n",
    "# Pass in - Tensor values, shape ie [2,3], name for reference\n",
    "# Return - Contant Tensor\n",
    "\n",
    "# Z is the results, of the mandelbrot iteration\n",
    "# contant creates a tensor of size Z\n",
    "xs = tf.constant(Z.astype(np.complex64))"
   ]
  },
  {
   "cell_type": "code",
   "execution_count": 39,
   "metadata": {
    "collapsed": true
   },
   "outputs": [],
   "source": [
    "# tf.Variable(a tensor, name)\n",
    "# Pass in - Tensor and a name (optional)\n",
    "# Return - Variable\n",
    "\n",
    "# this is used to ass a variable to the graph\n",
    "zs = tf.Variable(xs)"
   ]
  },
  {
   "cell_type": "code",
   "execution_count": 40,
   "metadata": {
    "collapsed": true
   },
   "outputs": [],
   "source": [
    "# creates zeroes of the same size and shape as xs as float32\n",
    "ns = tf.Variable(tf.zeros_like(xs, tf.float32))"
   ]
  },
  {
   "cell_type": "code",
   "execution_count": 41,
   "metadata": {
    "collapsed": false
   },
   "outputs": [
    {
     "data": {
      "text/plain": [
       "(array([[-2.00000000-1.29999995j, -1.99500000-1.29999995j,\n",
       "         -1.99000001-1.29999995j, ...,  0.98500001-1.29999995j,\n",
       "          0.99000001-1.29999995j,  0.99500000-1.29999995j],\n",
       "        [-2.00000000-1.29499996j, -1.99500000-1.29499996j,\n",
       "         -1.99000001-1.29499996j, ...,  0.98500001-1.29499996j,\n",
       "          0.99000001-1.29499996j,  0.99500000-1.29499996j],\n",
       "        [-2.00000000-1.28999996j, -1.99500000-1.28999996j,\n",
       "         -1.99000001-1.28999996j, ...,  0.98500001-1.28999996j,\n",
       "          0.99000001-1.28999996j,  0.99500000-1.28999996j],\n",
       "        ..., \n",
       "        [-2.00000000+1.28499997j, -1.99500000+1.28499997j,\n",
       "         -1.99000001+1.28499997j, ...,  0.98500001+1.28499997j,\n",
       "          0.99000001+1.28499997j,  0.99500000+1.28499997j],\n",
       "        [-2.00000000+1.28999996j, -1.99500000+1.28999996j,\n",
       "         -1.99000001+1.28999996j, ...,  0.98500001+1.28999996j,\n",
       "          0.99000001+1.28999996j,  0.99500000+1.28999996j],\n",
       "        [-2.00000000+1.29499996j, -1.99500000+1.29499996j,\n",
       "         -1.99000001+1.29499996j, ...,  0.98500001+1.29499996j,\n",
       "          0.99000001+1.29499996j,  0.99500000+1.29499996j]], dtype=complex64),\n",
       " TensorShape([Dimension(520), Dimension(600)]))"
      ]
     },
     "execution_count": 41,
     "metadata": {},
     "output_type": "execute_result"
    }
   ],
   "source": [
    "# the value of the tensor and its shape\n",
    "xs.eval(), xs.shape"
   ]
  },
  {
   "cell_type": "code",
   "execution_count": 42,
   "metadata": {
    "collapsed": true
   },
   "outputs": [],
   "source": [
    "# Explicit initialization of variables (needed before running them)"
   ]
  },
  {
   "cell_type": "code",
   "execution_count": 43,
   "metadata": {
    "collapsed": true
   },
   "outputs": [],
   "source": [
    "tf.global_variables_initializer().run()"
   ]
  },
  {
   "cell_type": "code",
   "execution_count": 65,
   "metadata": {
    "collapsed": false
   },
   "outputs": [],
   "source": [
    "# Compute the new values of z: z^2 + x\n",
    "zs_ = zs*zs + xs"
   ]
  },
  {
   "cell_type": "code",
   "execution_count": 66,
   "metadata": {
    "collapsed": true
   },
   "outputs": [],
   "source": [
    "# has the value diverged from 4, ie will it tend towards infinity?\n",
    "\n",
    "# tf.abs just give absolite value to all the tensor values\n",
    "not_diverged = tf.abs(zs_) < 1"
   ]
  },
  {
   "cell_type": "code",
   "execution_count": 71,
   "metadata": {
    "collapsed": false
   },
   "outputs": [
    {
     "data": {
      "text/plain": [
       "array([[False, False, False, ..., False, False, False],\n",
       "       [False, False, False, ..., False, False, False],\n",
       "       [False, False, False, ..., False, False, False],\n",
       "       ..., \n",
       "       [False, False, False, ..., False, False, False],\n",
       "       [False, False, False, ..., False, False, False],\n",
       "       [False, False, False, ..., False, False, False]], dtype=bool)"
      ]
     },
     "execution_count": 71,
     "metadata": {},
     "output_type": "execute_result"
    }
   ],
   "source": [
    "not_diverged.eval()"
   ]
  },
  {
   "cell_type": "code",
   "execution_count": 67,
   "metadata": {
    "collapsed": false
   },
   "outputs": [],
   "source": [
    "# each step we perform an iteration of the mandelbrot equation\n",
    "\n",
    "# zs.assign transfers the value of the tensors over\n",
    "\n",
    "# tf.cast changes the values to a float\n",
    "step = tf.group(zs.assign(zs_), ns.assign_add(tf.cast(not_diverged, tf.float32)))"
   ]
  },
  {
   "cell_type": "code",
   "execution_count": 68,
   "metadata": {
    "collapsed": true
   },
   "outputs": [],
   "source": [
    "for i in range(200):\n",
    "    step.run()"
   ]
  },
  {
   "cell_type": "code",
   "execution_count": 69,
   "metadata": {
    "collapsed": false
   },
   "outputs": [
    {
     "data": {
      "image/jpeg": "[encoded data removed]",
      "text/plain": [
       "<IPython.core.display.Image object>"
      ]
     },
     "metadata": {},
     "output_type": "display_data"
    }
   ],
   "source": [
    "DisplayFractal(ns.eval())"
   ]
  }
 ],
 "metadata": {
  "anaconda-cloud": {},
  "kernelspec": {
   "display_name": "tftut",
   "language": "python",
   "name": "tftut"
  },
  "language_info": {
   "codemirror_mode": {
    "name": "ipython",
    "version": 3
   },
   "file_extension": ".py",
   "mimetype": "text/x-python",
   "name": "python",
   "nbconvert_exporter": "python",
   "pygments_lexer": "ipython3",
   "version": "3.6.0"
  }
 },
 "nbformat": 4,
 "nbformat_minor": 1
}
