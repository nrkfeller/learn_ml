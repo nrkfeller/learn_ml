{
 "cells": [
  {
   "cell_type": "markdown",
   "metadata": {},
   "source": [
    "# Linear Algebra\n",
    "1. Tensors\n",
    "2. Matrix mul\n",
    "3. Indentity and inverse\n",
    "4. Linear dependence and span\n",
    "5. Norms\n",
    "6. Special kinds of of Matrices\n",
    "7. Engendecomposition\n",
    "8. Singular value decomposition\n",
    "9. Moore-Penrose\n",
    "10. Trace Operator\n",
    "11. Determinant\n",
    "12. Principal componenet analysis"
   ]
  },
  {
   "cell_type": "code",
   "execution_count": 19,
   "metadata": {
    "collapsed": true
   },
   "outputs": [],
   "source": [
    "import numpy as np\n",
    "from numpy.linalg import inv"
   ]
  },
  {
   "cell_type": "markdown",
   "metadata": {},
   "source": [
    "## 1. Tensors\n",
    "Array of multiple axes. array of numbers arranged on a regular grid with variable number of axes. denoted as **A**"
   ]
  },
  {
   "cell_type": "code",
   "execution_count": 3,
   "metadata": {
    "collapsed": false
   },
   "outputs": [
    {
     "name": "stdout",
     "output_type": "stream",
     "text": [
      "[[1 2 3]\n",
      " [4 5 6]]\n",
      "[[1 4]\n",
      " [2 5]\n",
      " [3 6]]\n"
     ]
    }
   ],
   "source": [
    "# transpose mirror image along main diagonal\n",
    "arr = np.array([[1,2,3], [4,5,6]])\n",
    "print(arr)\n",
    "print(arr.T)"
   ]
  },
  {
   "cell_type": "markdown",
   "metadata": {},
   "source": [
    "# 2. Matrix Multiplication\n",
    "* C=AB\n",
    "* Cij = Aik, Bkj\n",
    "* Distributive A(B+C) = AB +AC\n",
    "* Not Commutative AB != BA\n",
    "* Transpose commutative = A.T * B == B.T * A"
   ]
  },
  {
   "cell_type": "code",
   "execution_count": 13,
   "metadata": {
    "collapsed": false
   },
   "outputs": [
    {
     "data": {
      "text/plain": [
       "(array([[ 60,  70],\n",
       "        [160, 195]]), array([[  5,   6,   7,   8,   9],\n",
       "        [ 15,  20,  25,  30,  35],\n",
       "        [ 25,  34,  43,  52,  61],\n",
       "        [ 35,  48,  61,  74,  87],\n",
       "        [ 45,  62,  79,  96, 113]]))"
      ]
     },
     "execution_count": 13,
     "metadata": {},
     "output_type": "execute_result"
    }
   ],
   "source": [
    "A = np.arange(10).reshape(2,5)\n",
    "B = np.arange(10).reshape(5,2)\n",
    "C = np.matmul(A,B)\n",
    "D = np.matmul(B,A)\n",
    "C, D"
   ]
  },
  {
   "cell_type": "code",
   "execution_count": 16,
   "metadata": {
    "collapsed": false
   },
   "outputs": [
    {
     "data": {
      "text/plain": [
       "array([[ True,  True,  True,  True],\n",
       "       [ True,  True,  True,  True],\n",
       "       [ True,  True,  True,  True],\n",
       "       [ True,  True,  True,  True]], dtype=bool)"
      ]
     },
     "execution_count": 16,
     "metadata": {},
     "output_type": "execute_result"
    }
   ],
   "source": [
    "A = np.arange(16).reshape(4,4)\n",
    "B = np.arange(16).reshape(4,4)\n",
    "np.matmul(A.T, B) == np.matmul(B.T, A)"
   ]
  },
  {
   "cell_type": "code",
   "execution_count": 21,
   "metadata": {
    "collapsed": false
   },
   "outputs": [
    {
     "data": {
      "text/plain": [
       "array([[  9.00719925e+14,  -4.50359963e+14,  -1.80143985e+15,\n",
       "          1.35107989e+15],\n",
       "       [ -2.40191980e+15,   2.70215978e+15,   1.80143985e+15,\n",
       "         -2.10167983e+15],\n",
       "       [  2.10167983e+15,  -4.05323966e+15,   1.80143985e+15,\n",
       "          1.50119988e+14],\n",
       "       [ -6.00479950e+14,   1.80143985e+15,  -1.80143985e+15,\n",
       "          6.00479950e+14]])"
      ]
     },
     "execution_count": 21,
     "metadata": {},
     "output_type": "execute_result"
    }
   ],
   "source": [
    "inv(A)"
   ]
  },
  {
   "cell_type": "code",
   "execution_count": 22,
   "metadata": {
    "collapsed": false
   },
   "outputs": [
    {
     "data": {
      "text/plain": [
       "array([[ 1.,  0.,  0.,  0.],\n",
       "       [ 0., -2.,  1., -2.],\n",
       "       [ 2.,  0., -2., -4.],\n",
       "       [ 0.,  0.,  0., -2.]])"
      ]
     },
     "execution_count": 22,
     "metadata": {},
     "output_type": "execute_result"
    }
   ],
   "source": [
    "np.matmul(A, inv(A))"
   ]
  },
  {
   "cell_type": "markdown",
   "metadata": {},
   "source": [
    "# Identity and Inverse Matrices\n",
    "* matrix inversion allow us to analytically solve linear equations\n",
    "* Identity matrix - matrix with diagonal 1's\n",
    "* "
   ]
  }
 ],
 "metadata": {
  "anaconda-cloud": {},
  "kernelspec": {
   "display_name": "tftut",
   "language": "python",
   "name": "tftut"
  },
  "language_info": {
   "codemirror_mode": {
    "name": "ipython",
    "version": 3
   },
   "file_extension": ".py",
   "mimetype": "text/x-python",
   "name": "python",
   "nbconvert_exporter": "python",
   "pygments_lexer": "ipython3",
   "version": "3.6.0"
  }
 },
 "nbformat": 4,
 "nbformat_minor": 1
}
