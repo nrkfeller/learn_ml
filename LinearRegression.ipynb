{
 "cells": [
  {
   "cell_type": "markdown",
   "metadata": {
    "collapsed": false
   },
   "source": [
    "# TUTORIAL"
   ]
  },
  {
   "cell_type": "code",
   "execution_count": 2,
   "metadata": {
    "collapsed": true
   },
   "outputs": [],
   "source": [
    "import pandas as pd\n",
    "from sklearn import linear_model\n",
    "import matplotlib.pyplot as plt\n",
    "import mpld3\n",
    "mpld3.enable_notebook()"
   ]
  },
  {
   "cell_type": "code",
   "execution_count": 5,
   "metadata": {
    "collapsed": false
   },
   "outputs": [],
   "source": [
    "dataframe = pd.read_fwf('datasets/brain_body.txt')"
   ]
  },
  {
   "cell_type": "code",
   "execution_count": 6,
   "metadata": {
    "collapsed": false
   },
   "outputs": [],
   "source": [
    "xs = dataframe[['Brain']]\n",
    "ys = dataframe[['Body']]"
   ]
  },
  {
   "cell_type": "code",
   "execution_count": 7,
   "metadata": {
    "collapsed": false
   },
   "outputs": [
    {
     "data": {
      "image/png": "[encoded data removed]",
      "text/html": [
       "\n",
       "\n",
       "<style>\n",
       "\n",
       "</style>\n",
       "\n",
       "<div id=\"fig_el4405646479261923587520653\"></div>\n",
       "<script>\n",
       "function mpld3_load_lib(url, callback){\n",
       "  var s = document.createElement('script');\n",
       "  s.src = url;\n",
       "  s.async = true;\n",
       "  s.onreadystatechange = s.onload = callback;\n",
       "  s.onerror = function(){console.warn(\"failed to load library \" + url);};\n",
       "  document.getElementsByTagName(\"head\")[0].appendChild(s);\n",
       "}\n",
       "\n",
       "if(typeof(mpld3) !== \"undefined\" && mpld3._mpld3IsLoaded){\n",
       "   // already loaded: just create the figure\n",
       "   !function(mpld3){\n",
       "       \n",
       "       mpld3.draw_figure(\"fig_el4405646479261923587520653\", {\"width\": 432.0, \"height\": 288.0, \"axes\": [{\"bbox\": [0.125, 0.125, 0.775, 0.755], \"xlim\": [-332.7046066308244, 6986.709606630824], \"ylim\": [-285.4681766004415, 5997.608176600442], \"xdomain\": [-332.7046066308244, 6986.709606630824], \"ydomain\": [-285.4681766004415, 5997.608176600442], \"xscale\": \"linear\", \"yscale\": \"linear\", \"axes\": [{\"position\": \"bottom\", \"nticks\": 9, \"tickvalues\": null, \"tickformat\": null, \"scale\": \"linear\", \"fontsize\": 10.0, \"grid\": {\"gridOn\": false}, \"visible\": true}, {\"position\": \"left\", \"nticks\": 8, \"tickvalues\": null, \"tickformat\": null, \"scale\": \"linear\", \"fontsize\": 10.0, \"grid\": {\"gridOn\": false}, \"visible\": true}], \"axesbg\": \"#FFFFFF\", \"axesbgalpha\": null, \"zoomable\": true, \"id\": \"el440564647815880\", \"lines\": [], \"paths\": [], \"markers\": [], \"texts\": [], \"collections\": [{\"offsets\": \"data01\", \"xindex\": 0, \"yindex\": 1, \"paths\": [[[[0.0, -0.5], [0.13260155, -0.5], [0.25978993539242673, -0.44731684579412084], [0.3535533905932738, -0.3535533905932738], [0.44731684579412084, -0.25978993539242673], [0.5, -0.13260155], [0.5, 0.0], [0.5, 0.13260155], [0.44731684579412084, 0.25978993539242673], [0.3535533905932738, 0.3535533905932738], [0.25978993539242673, 0.44731684579412084], [0.13260155, 0.5], [0.0, 0.5], [-0.13260155, 0.5], [-0.25978993539242673, 0.44731684579412084], [-0.3535533905932738, 0.3535533905932738], [-0.44731684579412084, 0.25978993539242673], [-0.5, 0.13260155], [-0.5, 0.0], [-0.5, -0.13260155], [-0.44731684579412084, -0.25978993539242673], [-0.3535533905932738, -0.3535533905932738], [-0.25978993539242673, -0.44731684579412084], [-0.13260155, -0.5], [0.0, -0.5]], [\"M\", \"C\", \"C\", \"C\", \"C\", \"C\", \"C\", \"C\", \"C\", \"Z\"]]], \"pathtransforms\": [[6.0, 0.0, 0.0, 6.0, 0.0, 0.0]], \"alphas\": [null], \"edgecolors\": [\"#1F77B4\"], \"facecolors\": [\"#1F77B4\"], \"edgewidths\": [1.0], \"offsetcoordinates\": \"data\", \"pathcoordinates\": \"display\", \"zorder\": 1, \"id\": \"el440564564045608\"}], \"images\": [], \"sharex\": [], \"sharey\": []}], \"data\": {\"data01\": [[3.385, 44.5], [0.48, 15.5], [1.35, 8.1], [465.0, 423.0], [36.33, 119.5], [27.66, 115.0], [14.83, 98.2], [1.04, 5.5], [4.19, 58.0], [0.425, 6.4], [0.10099999999999999, 4.0], [0.92, 5.7], [1.0, 6.6], [0.005, 0.14], [0.06, 1.0], [3.5, 10.8], [2.0, 12.3], [1.7, 6.3], [2547.0, 4603.0], [0.023, 0.3], [187.1, 419.0], [521.0, 655.0], [0.785, 3.5], [10.0, 115.0], [3.3, 25.6], [0.2, 5.0], [1.41, 17.5], [529.0, 680.0], [207.0, 406.0], [85.0, 325.0], [0.75, 12.3], [62.0, 1320.0], [6654.0, 5712.0], [3.5, 3.9], [6.8, 179.0], [35.0, 56.0], [4.05, 17.0], [0.12, 1.0], [0.023, 0.4], [0.01, 0.25], [1.4, 12.5], [250.0, 490.0], [2.5, 12.1], [55.5, 175.0], [100.0, 157.0], [52.16, 440.0], [10.55, 179.5], [0.55, 2.4], [60.0, 81.0], [3.6, 21.0], [4.288, 39.2], [0.28, 1.9], [0.075, 1.2], [0.122, 3.0], [0.048, 0.33], [192.0, 180.0], [3.0, 25.0], [160.0, 169.0], [0.9, 2.6], [1.62, 11.4], [0.10400000000000001, 2.5], [4.235, 50.4]]}, \"id\": \"el440564647926192\", \"plugins\": [{\"type\": \"reset\"}, {\"type\": \"zoom\", \"button\": true, \"enabled\": false}, {\"type\": \"boxzoom\", \"button\": true, \"enabled\": false}]});\n",
       "   }(mpld3);\n",
       "}else if(typeof define === \"function\" && define.amd){\n",
       "   // require.js is available: use it to load d3/mpld3\n",
       "   require.config({paths: {d3: \"https://mpld3.github.io/js/d3.v3.min\"}});\n",
       "   require([\"d3\"], function(d3){\n",
       "      window.d3 = d3;\n",
       "      mpld3_load_lib(\"https://mpld3.github.io/js/mpld3.v0.3.js\", function(){\n",
       "         \n",
       "         mpld3.draw_figure(\"fig_el4405646479261923587520653\", {\"width\": 432.0, \"height\": 288.0, \"axes\": [{\"bbox\": [0.125, 0.125, 0.775, 0.755], \"xlim\": [-332.7046066308244, 6986.709606630824], \"ylim\": [-285.4681766004415, 5997.608176600442], \"xdomain\": [-332.7046066308244, 6986.709606630824], \"ydomain\": [-285.4681766004415, 5997.608176600442], \"xscale\": \"linear\", \"yscale\": \"linear\", \"axes\": [{\"position\": \"bottom\", \"nticks\": 9, \"tickvalues\": null, \"tickformat\": null, \"scale\": \"linear\", \"fontsize\": 10.0, \"grid\": {\"gridOn\": false}, \"visible\": true}, {\"position\": \"left\", \"nticks\": 8, \"tickvalues\": null, \"tickformat\": null, \"scale\": \"linear\", \"fontsize\": 10.0, \"grid\": {\"gridOn\": false}, \"visible\": true}], \"axesbg\": \"#FFFFFF\", \"axesbgalpha\": null, \"zoomable\": true, \"id\": \"el440564647815880\", \"lines\": [], \"paths\": [], \"markers\": [], \"texts\": [], \"collections\": [{\"offsets\": \"data01\", \"xindex\": 0, \"yindex\": 1, \"paths\": [[[[0.0, -0.5], [0.13260155, -0.5], [0.25978993539242673, -0.44731684579412084], [0.3535533905932738, -0.3535533905932738], [0.44731684579412084, -0.25978993539242673], [0.5, -0.13260155], [0.5, 0.0], [0.5, 0.13260155], [0.44731684579412084, 0.25978993539242673], [0.3535533905932738, 0.3535533905932738], [0.25978993539242673, 0.44731684579412084], [0.13260155, 0.5], [0.0, 0.5], [-0.13260155, 0.5], [-0.25978993539242673, 0.44731684579412084], [-0.3535533905932738, 0.3535533905932738], [-0.44731684579412084, 0.25978993539242673], [-0.5, 0.13260155], [-0.5, 0.0], [-0.5, -0.13260155], [-0.44731684579412084, -0.25978993539242673], [-0.3535533905932738, -0.3535533905932738], [-0.25978993539242673, -0.44731684579412084], [-0.13260155, -0.5], [0.0, -0.5]], [\"M\", \"C\", \"C\", \"C\", \"C\", \"C\", \"C\", \"C\", \"C\", \"Z\"]]], \"pathtransforms\": [[6.0, 0.0, 0.0, 6.0, 0.0, 0.0]], \"alphas\": [null], \"edgecolors\": [\"#1F77B4\"], \"facecolors\": [\"#1F77B4\"], \"edgewidths\": [1.0], \"offsetcoordinates\": \"data\", \"pathcoordinates\": \"display\", \"zorder\": 1, \"id\": \"el440564564045608\"}], \"images\": [], \"sharex\": [], \"sharey\": []}], \"data\": {\"data01\": [[3.385, 44.5], [0.48, 15.5], [1.35, 8.1], [465.0, 423.0], [36.33, 119.5], [27.66, 115.0], [14.83, 98.2], [1.04, 5.5], [4.19, 58.0], [0.425, 6.4], [0.10099999999999999, 4.0], [0.92, 5.7], [1.0, 6.6], [0.005, 0.14], [0.06, 1.0], [3.5, 10.8], [2.0, 12.3], [1.7, 6.3], [2547.0, 4603.0], [0.023, 0.3], [187.1, 419.0], [521.0, 655.0], [0.785, 3.5], [10.0, 115.0], [3.3, 25.6], [0.2, 5.0], [1.41, 17.5], [529.0, 680.0], [207.0, 406.0], [85.0, 325.0], [0.75, 12.3], [62.0, 1320.0], [6654.0, 5712.0], [3.5, 3.9], [6.8, 179.0], [35.0, 56.0], [4.05, 17.0], [0.12, 1.0], [0.023, 0.4], [0.01, 0.25], [1.4, 12.5], [250.0, 490.0], [2.5, 12.1], [55.5, 175.0], [100.0, 157.0], [52.16, 440.0], [10.55, 179.5], [0.55, 2.4], [60.0, 81.0], [3.6, 21.0], [4.288, 39.2], [0.28, 1.9], [0.075, 1.2], [0.122, 3.0], [0.048, 0.33], [192.0, 180.0], [3.0, 25.0], [160.0, 169.0], [0.9, 2.6], [1.62, 11.4], [0.10400000000000001, 2.5], [4.235, 50.4]]}, \"id\": \"el440564647926192\", \"plugins\": [{\"type\": \"reset\"}, {\"type\": \"zoom\", \"button\": true, \"enabled\": false}, {\"type\": \"boxzoom\", \"button\": true, \"enabled\": false}]});\n",
       "      });\n",
       "    });\n",
       "}else{\n",
       "    // require.js not available: dynamically load d3 & mpld3\n",
       "    mpld3_load_lib(\"https://mpld3.github.io/js/d3.v3.min.js\", function(){\n",
       "         mpld3_load_lib(\"https://mpld3.github.io/js/mpld3.v0.3.js\", function(){\n",
       "                 \n",
       "                 mpld3.draw_figure(\"fig_el4405646479261923587520653\", {\"width\": 432.0, \"height\": 288.0, \"axes\": [{\"bbox\": [0.125, 0.125, 0.775, 0.755], \"xlim\": [-332.7046066308244, 6986.709606630824], \"ylim\": [-285.4681766004415, 5997.608176600442], \"xdomain\": [-332.7046066308244, 6986.709606630824], \"ydomain\": [-285.4681766004415, 5997.608176600442], \"xscale\": \"linear\", \"yscale\": \"linear\", \"axes\": [{\"position\": \"bottom\", \"nticks\": 9, \"tickvalues\": null, \"tickformat\": null, \"scale\": \"linear\", \"fontsize\": 10.0, \"grid\": {\"gridOn\": false}, \"visible\": true}, {\"position\": \"left\", \"nticks\": 8, \"tickvalues\": null, \"tickformat\": null, \"scale\": \"linear\", \"fontsize\": 10.0, \"grid\": {\"gridOn\": false}, \"visible\": true}], \"axesbg\": \"#FFFFFF\", \"axesbgalpha\": null, \"zoomable\": true, \"id\": \"el440564647815880\", \"lines\": [], \"paths\": [], \"markers\": [], \"texts\": [], \"collections\": [{\"offsets\": \"data01\", \"xindex\": 0, \"yindex\": 1, \"paths\": [[[[0.0, -0.5], [0.13260155, -0.5], [0.25978993539242673, -0.44731684579412084], [0.3535533905932738, -0.3535533905932738], [0.44731684579412084, -0.25978993539242673], [0.5, -0.13260155], [0.5, 0.0], [0.5, 0.13260155], [0.44731684579412084, 0.25978993539242673], [0.3535533905932738, 0.3535533905932738], [0.25978993539242673, 0.44731684579412084], [0.13260155, 0.5], [0.0, 0.5], [-0.13260155, 0.5], [-0.25978993539242673, 0.44731684579412084], [-0.3535533905932738, 0.3535533905932738], [-0.44731684579412084, 0.25978993539242673], [-0.5, 0.13260155], [-0.5, 0.0], [-0.5, -0.13260155], [-0.44731684579412084, -0.25978993539242673], [-0.3535533905932738, -0.3535533905932738], [-0.25978993539242673, -0.44731684579412084], [-0.13260155, -0.5], [0.0, -0.5]], [\"M\", \"C\", \"C\", \"C\", \"C\", \"C\", \"C\", \"C\", \"C\", \"Z\"]]], \"pathtransforms\": [[6.0, 0.0, 0.0, 6.0, 0.0, 0.0]], \"alphas\": [null], \"edgecolors\": [\"#1F77B4\"], \"facecolors\": [\"#1F77B4\"], \"edgewidths\": [1.0], \"offsetcoordinates\": \"data\", \"pathcoordinates\": \"display\", \"zorder\": 1, \"id\": \"el440564564045608\"}], \"images\": [], \"sharex\": [], \"sharey\": []}], \"data\": {\"data01\": [[3.385, 44.5], [0.48, 15.5], [1.35, 8.1], [465.0, 423.0], [36.33, 119.5], [27.66, 115.0], [14.83, 98.2], [1.04, 5.5], [4.19, 58.0], [0.425, 6.4], [0.10099999999999999, 4.0], [0.92, 5.7], [1.0, 6.6], [0.005, 0.14], [0.06, 1.0], [3.5, 10.8], [2.0, 12.3], [1.7, 6.3], [2547.0, 4603.0], [0.023, 0.3], [187.1, 419.0], [521.0, 655.0], [0.785, 3.5], [10.0, 115.0], [3.3, 25.6], [0.2, 5.0], [1.41, 17.5], [529.0, 680.0], [207.0, 406.0], [85.0, 325.0], [0.75, 12.3], [62.0, 1320.0], [6654.0, 5712.0], [3.5, 3.9], [6.8, 179.0], [35.0, 56.0], [4.05, 17.0], [0.12, 1.0], [0.023, 0.4], [0.01, 0.25], [1.4, 12.5], [250.0, 490.0], [2.5, 12.1], [55.5, 175.0], [100.0, 157.0], [52.16, 440.0], [10.55, 179.5], [0.55, 2.4], [60.0, 81.0], [3.6, 21.0], [4.288, 39.2], [0.28, 1.9], [0.075, 1.2], [0.122, 3.0], [0.048, 0.33], [192.0, 180.0], [3.0, 25.0], [160.0, 169.0], [0.9, 2.6], [1.62, 11.4], [0.10400000000000001, 2.5], [4.235, 50.4]]}, \"id\": \"el440564647926192\", \"plugins\": [{\"type\": \"reset\"}, {\"type\": \"zoom\", \"button\": true, \"enabled\": false}, {\"type\": \"boxzoom\", \"button\": true, \"enabled\": false}]});\n",
       "            })\n",
       "         });\n",
       "}\n",
       "</script>"
      ],
      "text/plain": [
       "<matplotlib.figure.Figure at 0x11509b9b0>"
      ]
     },
     "metadata": {},
     "output_type": "display_data"
    }
   ],
   "source": [
    "plt.scatter(xs,ys)\n",
    "plt.show()"
   ]
  },
  {
   "cell_type": "code",
   "execution_count": 8,
   "metadata": {
    "collapsed": true
   },
   "outputs": [],
   "source": [
    "body_reg = linear_model.LinearRegression()"
   ]
  },
  {
   "cell_type": "code",
   "execution_count": 9,
   "metadata": {
    "collapsed": false
   },
   "outputs": [
    {
     "name": "stderr",
     "output_type": "stream",
     "text": [
      "/Users/nicolasfeller/work/src/github.com/nrkfeller/tensorflowtutorial/tftut/lib/python3.6/site-packages/scipy/linalg/basic.py:884: RuntimeWarning: internal gelsd driver lwork query error, required iwork dimension not returned. This is likely the result of LAPACK bug 0038, fixed in LAPACK 3.2.2 (released July 21, 2010). Falling back to 'gelss' driver.\n",
      "  warnings.warn(mesg, RuntimeWarning)\n"
     ]
    },
    {
     "data": {
      "text/plain": [
       "LinearRegression(copy_X=True, fit_intercept=True, n_jobs=1, normalize=False)"
      ]
     },
     "execution_count": 9,
     "metadata": {},
     "output_type": "execute_result"
    }
   ],
   "source": [
    "body_reg.fit(xs,ys)"
   ]
  },
  {
   "cell_type": "code",
   "execution_count": 10,
   "metadata": {
    "collapsed": false
   },
   "outputs": [
    {
     "data": {
      "image/png": "[encoded data removed]",
      "text/html": [
       "\n",
       "\n",
       "<style>\n",
       "\n",
       "</style>\n",
       "\n",
       "<div id=\"fig_el4405645667659201316188028\"></div>\n",
       "<script>\n",
       "function mpld3_load_lib(url, callback){\n",
       "  var s = document.createElement('script');\n",
       "  s.src = url;\n",
       "  s.async = true;\n",
       "  s.onreadystatechange = s.onload = callback;\n",
       "  s.onerror = function(){console.warn(\"failed to load library \" + url);};\n",
       "  document.getElementsByTagName(\"head\")[0].appendChild(s);\n",
       "}\n",
       "\n",
       "if(typeof(mpld3) !== \"undefined\" && mpld3._mpld3IsLoaded){\n",
       "   // already loaded: just create the figure\n",
       "   !function(mpld3){\n",
       "       \n",
       "       mpld3.draw_figure(\"fig_el4405645667659201316188028\", {\"width\": 432.0, \"height\": 288.0, \"axes\": [{\"bbox\": [0.125, 0.125, 0.775, 0.755], \"xlim\": [-332.7046066308244, 6986.709606630824], \"ylim\": [-325.9710480900033, 6848.16847788124], \"xdomain\": [-332.7046066308244, 6986.709606630824], \"ydomain\": [-325.9710480900033, 6848.16847788124], \"xscale\": \"linear\", \"yscale\": \"linear\", \"axes\": [{\"position\": \"bottom\", \"nticks\": 9, \"tickvalues\": null, \"tickformat\": null, \"scale\": \"linear\", \"fontsize\": 10.0, \"grid\": {\"gridOn\": false}, \"visible\": true}, {\"position\": \"left\", \"nticks\": 9, \"tickvalues\": null, \"tickformat\": null, \"scale\": \"linear\", \"fontsize\": 10.0, \"grid\": {\"gridOn\": false}, \"visible\": true}], \"axesbg\": \"#FFFFFF\", \"axesbgalpha\": null, \"zoomable\": true, \"id\": \"el440564648606072\", \"lines\": [{\"data\": \"data01\", \"xindex\": 0, \"yindex\": 1, \"coordinates\": \"data\", \"id\": \"el440564566766256\", \"color\": \"#1F77B4\", \"linewidth\": 1.5, \"dasharray\": \"none\", \"alpha\": 1, \"zorder\": 2, \"drawstyle\": \"default\"}], \"paths\": [], \"markers\": [], \"texts\": [], \"collections\": [{\"offsets\": \"data01\", \"xindex\": 0, \"yindex\": 2, \"paths\": [[[[0.0, -0.5], [0.13260155, -0.5], [0.25978993539242673, -0.44731684579412084], [0.3535533905932738, -0.3535533905932738], [0.44731684579412084, -0.25978993539242673], [0.5, -0.13260155], [0.5, 0.0], [0.5, 0.13260155], [0.44731684579412084, 0.25978993539242673], [0.3535533905932738, 0.3535533905932738], [0.25978993539242673, 0.44731684579412084], [0.13260155, 0.5], [0.0, 0.5], [-0.13260155, 0.5], [-0.25978993539242673, 0.44731684579412084], [-0.3535533905932738, 0.3535533905932738], [-0.44731684579412084, 0.25978993539242673], [-0.5, 0.13260155], [-0.5, 0.0], [-0.5, -0.13260155], [-0.44731684579412084, -0.25978993539242673], [-0.3535533905932738, -0.3535533905932738], [-0.25978993539242673, -0.44731684579412084], [-0.13260155, -0.5], [0.0, -0.5]], [\"M\", \"C\", \"C\", \"C\", \"C\", \"C\", \"C\", \"C\", \"C\", \"Z\"]]], \"pathtransforms\": [[6.0, 0.0, 0.0, 6.0, 0.0, 0.0]], \"alphas\": [null], \"edgecolors\": [\"#1F77B4\"], \"facecolors\": [\"#1F77B4\"], \"edgewidths\": [1.0], \"offsetcoordinates\": \"data\", \"pathcoordinates\": \"display\", \"zorder\": 1, \"id\": \"el440564650812472\"}], \"images\": [], \"sharex\": [], \"sharey\": []}], \"data\": {\"data01\": [[3.385, 94.27598641197848, 44.5], [0.48, 91.46831446388966, 15.5], [1.35, 92.3091663037648, 8.1], [465.0, 540.4252071751547, 423.0], [36.33, 126.11720924495151, 119.5], [27.66, 117.73768573723027, 115.0], [14.83, 105.33753733999112, 98.2], [1.04, 92.0095524297863, 5.5], [4.19, 95.05401598795491, 58.0], [0.425, 91.41515716366766, 6.4], [0.10099999999999999, 91.10201234054175, 4.0], [0.92, 91.89357286566559, 5.7], [1.0, 91.97089257507939, 6.6], [0.005, 91.00922868924518, 0.14], [0.06, 91.06238598946717, 1.0], [3.5, 94.38713349426084, 10.8], [2.0, 92.93738894275197, 12.3], [1.7, 92.64744003245019, 6.3], [2547.0, 2552.6706446694584, 4603.0], [0.023, 91.02662562386328, 0.3], [187.1, 271.8358665989458, 419.0], [521.0, 594.549003764819, 655.0], [0.785, 91.76309585602979, 3.5], [10.0, 100.66935988413258, 115.0], [3.3, 94.19383422072632, 25.6], [0.2, 91.19769548094133, 5.0], [1.41, 92.36715608582514, 17.5], [529.0, 602.2809747061996, 680.0], [207.0, 291.06914431563007, 406.0], [85.0, 173.1565874595758, 325.0], [0.75, 91.72926848316125, 12.3], [62.0, 150.92717100310654, 1320.0], [6654.0, 6522.071226700728, 5712.0], [3.5, 94.38713349426084, 3.9], [6.8, 97.57657150758033, 179.0], [35.0, 124.83176907594698, 56.0], [4.05, 94.91870649648075, 17.0], [0.12, 91.12037577152752, 1.0], [0.023, 91.02662562386328, 0.4], [0.01, 91.01406117108354, 0.25], [1.4, 92.35749112214842, 12.5], [250.0, 332.62848812555086, 490.0], [2.5, 93.42063712658825, 12.1], [55.5, 144.6449446132348, 175.0], [100.0, 187.65403297466443, 157.0], [52.16, 141.41684674520837, 440.0], [10.55, 101.20093288635249, 179.5], [0.55, 91.53596920962673, 2.4], [60.0, 148.99417826776138, 81.0], [3.6, 94.48378313102809, 21.0], [4.288, 95.14873263198682, 39.2], [0.28, 91.27501519035513, 1.9], [0.075, 91.07688343498225, 1.2], [0.122, 91.12230876426287, 3.0], [0.048, 91.0507880330551, 0.33], [192.0, 276.5716988005414, 180.0], [3.0, 93.90388531042454, 25.0], [160.0, 245.643815035019, 169.0], [0.9, 91.87424293831214, 2.6], [1.62, 92.57012032303639, 11.4], [0.10400000000000001, 91.10491182964476, 2.5], [4.235, 95.09750832450017, 50.4]]}, \"id\": \"el440564566765920\", \"plugins\": [{\"type\": \"reset\"}, {\"type\": \"zoom\", \"button\": true, \"enabled\": false}, {\"type\": \"boxzoom\", \"button\": true, \"enabled\": false}]});\n",
       "   }(mpld3);\n",
       "}else if(typeof define === \"function\" && define.amd){\n",
       "   // require.js is available: use it to load d3/mpld3\n",
       "   require.config({paths: {d3: \"https://mpld3.github.io/js/d3.v3.min\"}});\n",
       "   require([\"d3\"], function(d3){\n",
       "      window.d3 = d3;\n",
       "      mpld3_load_lib(\"https://mpld3.github.io/js/mpld3.v0.3.js\", function(){\n",
       "         \n",
       "         mpld3.draw_figure(\"fig_el4405645667659201316188028\", {\"width\": 432.0, \"height\": 288.0, \"axes\": [{\"bbox\": [0.125, 0.125, 0.775, 0.755], \"xlim\": [-332.7046066308244, 6986.709606630824], \"ylim\": [-325.9710480900033, 6848.16847788124], \"xdomain\": [-332.7046066308244, 6986.709606630824], \"ydomain\": [-325.9710480900033, 6848.16847788124], \"xscale\": \"linear\", \"yscale\": \"linear\", \"axes\": [{\"position\": \"bottom\", \"nticks\": 9, \"tickvalues\": null, \"tickformat\": null, \"scale\": \"linear\", \"fontsize\": 10.0, \"grid\": {\"gridOn\": false}, \"visible\": true}, {\"position\": \"left\", \"nticks\": 9, \"tickvalues\": null, \"tickformat\": null, \"scale\": \"linear\", \"fontsize\": 10.0, \"grid\": {\"gridOn\": false}, \"visible\": true}], \"axesbg\": \"#FFFFFF\", \"axesbgalpha\": null, \"zoomable\": true, \"id\": \"el440564648606072\", \"lines\": [{\"data\": \"data01\", \"xindex\": 0, \"yindex\": 1, \"coordinates\": \"data\", \"id\": \"el440564566766256\", \"color\": \"#1F77B4\", \"linewidth\": 1.5, \"dasharray\": \"none\", \"alpha\": 1, \"zorder\": 2, \"drawstyle\": \"default\"}], \"paths\": [], \"markers\": [], \"texts\": [], \"collections\": [{\"offsets\": \"data01\", \"xindex\": 0, \"yindex\": 2, \"paths\": [[[[0.0, -0.5], [0.13260155, -0.5], [0.25978993539242673, -0.44731684579412084], [0.3535533905932738, -0.3535533905932738], [0.44731684579412084, -0.25978993539242673], [0.5, -0.13260155], [0.5, 0.0], [0.5, 0.13260155], [0.44731684579412084, 0.25978993539242673], [0.3535533905932738, 0.3535533905932738], [0.25978993539242673, 0.44731684579412084], [0.13260155, 0.5], [0.0, 0.5], [-0.13260155, 0.5], [-0.25978993539242673, 0.44731684579412084], [-0.3535533905932738, 0.3535533905932738], [-0.44731684579412084, 0.25978993539242673], [-0.5, 0.13260155], [-0.5, 0.0], [-0.5, -0.13260155], [-0.44731684579412084, -0.25978993539242673], [-0.3535533905932738, -0.3535533905932738], [-0.25978993539242673, -0.44731684579412084], [-0.13260155, -0.5], [0.0, -0.5]], [\"M\", \"C\", \"C\", \"C\", \"C\", \"C\", \"C\", \"C\", \"C\", \"Z\"]]], \"pathtransforms\": [[6.0, 0.0, 0.0, 6.0, 0.0, 0.0]], \"alphas\": [null], \"edgecolors\": [\"#1F77B4\"], \"facecolors\": [\"#1F77B4\"], \"edgewidths\": [1.0], \"offsetcoordinates\": \"data\", \"pathcoordinates\": \"display\", \"zorder\": 1, \"id\": \"el440564650812472\"}], \"images\": [], \"sharex\": [], \"sharey\": []}], \"data\": {\"data01\": [[3.385, 94.27598641197848, 44.5], [0.48, 91.46831446388966, 15.5], [1.35, 92.3091663037648, 8.1], [465.0, 540.4252071751547, 423.0], [36.33, 126.11720924495151, 119.5], [27.66, 117.73768573723027, 115.0], [14.83, 105.33753733999112, 98.2], [1.04, 92.0095524297863, 5.5], [4.19, 95.05401598795491, 58.0], [0.425, 91.41515716366766, 6.4], [0.10099999999999999, 91.10201234054175, 4.0], [0.92, 91.89357286566559, 5.7], [1.0, 91.97089257507939, 6.6], [0.005, 91.00922868924518, 0.14], [0.06, 91.06238598946717, 1.0], [3.5, 94.38713349426084, 10.8], [2.0, 92.93738894275197, 12.3], [1.7, 92.64744003245019, 6.3], [2547.0, 2552.6706446694584, 4603.0], [0.023, 91.02662562386328, 0.3], [187.1, 271.8358665989458, 419.0], [521.0, 594.549003764819, 655.0], [0.785, 91.76309585602979, 3.5], [10.0, 100.66935988413258, 115.0], [3.3, 94.19383422072632, 25.6], [0.2, 91.19769548094133, 5.0], [1.41, 92.36715608582514, 17.5], [529.0, 602.2809747061996, 680.0], [207.0, 291.06914431563007, 406.0], [85.0, 173.1565874595758, 325.0], [0.75, 91.72926848316125, 12.3], [62.0, 150.92717100310654, 1320.0], [6654.0, 6522.071226700728, 5712.0], [3.5, 94.38713349426084, 3.9], [6.8, 97.57657150758033, 179.0], [35.0, 124.83176907594698, 56.0], [4.05, 94.91870649648075, 17.0], [0.12, 91.12037577152752, 1.0], [0.023, 91.02662562386328, 0.4], [0.01, 91.01406117108354, 0.25], [1.4, 92.35749112214842, 12.5], [250.0, 332.62848812555086, 490.0], [2.5, 93.42063712658825, 12.1], [55.5, 144.6449446132348, 175.0], [100.0, 187.65403297466443, 157.0], [52.16, 141.41684674520837, 440.0], [10.55, 101.20093288635249, 179.5], [0.55, 91.53596920962673, 2.4], [60.0, 148.99417826776138, 81.0], [3.6, 94.48378313102809, 21.0], [4.288, 95.14873263198682, 39.2], [0.28, 91.27501519035513, 1.9], [0.075, 91.07688343498225, 1.2], [0.122, 91.12230876426287, 3.0], [0.048, 91.0507880330551, 0.33], [192.0, 276.5716988005414, 180.0], [3.0, 93.90388531042454, 25.0], [160.0, 245.643815035019, 169.0], [0.9, 91.87424293831214, 2.6], [1.62, 92.57012032303639, 11.4], [0.10400000000000001, 91.10491182964476, 2.5], [4.235, 95.09750832450017, 50.4]]}, \"id\": \"el440564566765920\", \"plugins\": [{\"type\": \"reset\"}, {\"type\": \"zoom\", \"button\": true, \"enabled\": false}, {\"type\": \"boxzoom\", \"button\": true, \"enabled\": false}]});\n",
       "      });\n",
       "    });\n",
       "}else{\n",
       "    // require.js not available: dynamically load d3 & mpld3\n",
       "    mpld3_load_lib(\"https://mpld3.github.io/js/d3.v3.min.js\", function(){\n",
       "         mpld3_load_lib(\"https://mpld3.github.io/js/mpld3.v0.3.js\", function(){\n",
       "                 \n",
       "                 mpld3.draw_figure(\"fig_el4405645667659201316188028\", {\"width\": 432.0, \"height\": 288.0, \"axes\": [{\"bbox\": [0.125, 0.125, 0.775, 0.755], \"xlim\": [-332.7046066308244, 6986.709606630824], \"ylim\": [-325.9710480900033, 6848.16847788124], \"xdomain\": [-332.7046066308244, 6986.709606630824], \"ydomain\": [-325.9710480900033, 6848.16847788124], \"xscale\": \"linear\", \"yscale\": \"linear\", \"axes\": [{\"position\": \"bottom\", \"nticks\": 9, \"tickvalues\": null, \"tickformat\": null, \"scale\": \"linear\", \"fontsize\": 10.0, \"grid\": {\"gridOn\": false}, \"visible\": true}, {\"position\": \"left\", \"nticks\": 9, \"tickvalues\": null, \"tickformat\": null, \"scale\": \"linear\", \"fontsize\": 10.0, \"grid\": {\"gridOn\": false}, \"visible\": true}], \"axesbg\": \"#FFFFFF\", \"axesbgalpha\": null, \"zoomable\": true, \"id\": \"el440564648606072\", \"lines\": [{\"data\": \"data01\", \"xindex\": 0, \"yindex\": 1, \"coordinates\": \"data\", \"id\": \"el440564566766256\", \"color\": \"#1F77B4\", \"linewidth\": 1.5, \"dasharray\": \"none\", \"alpha\": 1, \"zorder\": 2, \"drawstyle\": \"default\"}], \"paths\": [], \"markers\": [], \"texts\": [], \"collections\": [{\"offsets\": \"data01\", \"xindex\": 0, \"yindex\": 2, \"paths\": [[[[0.0, -0.5], [0.13260155, -0.5], [0.25978993539242673, -0.44731684579412084], [0.3535533905932738, -0.3535533905932738], [0.44731684579412084, -0.25978993539242673], [0.5, -0.13260155], [0.5, 0.0], [0.5, 0.13260155], [0.44731684579412084, 0.25978993539242673], [0.3535533905932738, 0.3535533905932738], [0.25978993539242673, 0.44731684579412084], [0.13260155, 0.5], [0.0, 0.5], [-0.13260155, 0.5], [-0.25978993539242673, 0.44731684579412084], [-0.3535533905932738, 0.3535533905932738], [-0.44731684579412084, 0.25978993539242673], [-0.5, 0.13260155], [-0.5, 0.0], [-0.5, -0.13260155], [-0.44731684579412084, -0.25978993539242673], [-0.3535533905932738, -0.3535533905932738], [-0.25978993539242673, -0.44731684579412084], [-0.13260155, -0.5], [0.0, -0.5]], [\"M\", \"C\", \"C\", \"C\", \"C\", \"C\", \"C\", \"C\", \"C\", \"Z\"]]], \"pathtransforms\": [[6.0, 0.0, 0.0, 6.0, 0.0, 0.0]], \"alphas\": [null], \"edgecolors\": [\"#1F77B4\"], \"facecolors\": [\"#1F77B4\"], \"edgewidths\": [1.0], \"offsetcoordinates\": \"data\", \"pathcoordinates\": \"display\", \"zorder\": 1, \"id\": \"el440564650812472\"}], \"images\": [], \"sharex\": [], \"sharey\": []}], \"data\": {\"data01\": [[3.385, 94.27598641197848, 44.5], [0.48, 91.46831446388966, 15.5], [1.35, 92.3091663037648, 8.1], [465.0, 540.4252071751547, 423.0], [36.33, 126.11720924495151, 119.5], [27.66, 117.73768573723027, 115.0], [14.83, 105.33753733999112, 98.2], [1.04, 92.0095524297863, 5.5], [4.19, 95.05401598795491, 58.0], [0.425, 91.41515716366766, 6.4], [0.10099999999999999, 91.10201234054175, 4.0], [0.92, 91.89357286566559, 5.7], [1.0, 91.97089257507939, 6.6], [0.005, 91.00922868924518, 0.14], [0.06, 91.06238598946717, 1.0], [3.5, 94.38713349426084, 10.8], [2.0, 92.93738894275197, 12.3], [1.7, 92.64744003245019, 6.3], [2547.0, 2552.6706446694584, 4603.0], [0.023, 91.02662562386328, 0.3], [187.1, 271.8358665989458, 419.0], [521.0, 594.549003764819, 655.0], [0.785, 91.76309585602979, 3.5], [10.0, 100.66935988413258, 115.0], [3.3, 94.19383422072632, 25.6], [0.2, 91.19769548094133, 5.0], [1.41, 92.36715608582514, 17.5], [529.0, 602.2809747061996, 680.0], [207.0, 291.06914431563007, 406.0], [85.0, 173.1565874595758, 325.0], [0.75, 91.72926848316125, 12.3], [62.0, 150.92717100310654, 1320.0], [6654.0, 6522.071226700728, 5712.0], [3.5, 94.38713349426084, 3.9], [6.8, 97.57657150758033, 179.0], [35.0, 124.83176907594698, 56.0], [4.05, 94.91870649648075, 17.0], [0.12, 91.12037577152752, 1.0], [0.023, 91.02662562386328, 0.4], [0.01, 91.01406117108354, 0.25], [1.4, 92.35749112214842, 12.5], [250.0, 332.62848812555086, 490.0], [2.5, 93.42063712658825, 12.1], [55.5, 144.6449446132348, 175.0], [100.0, 187.65403297466443, 157.0], [52.16, 141.41684674520837, 440.0], [10.55, 101.20093288635249, 179.5], [0.55, 91.53596920962673, 2.4], [60.0, 148.99417826776138, 81.0], [3.6, 94.48378313102809, 21.0], [4.288, 95.14873263198682, 39.2], [0.28, 91.27501519035513, 1.9], [0.075, 91.07688343498225, 1.2], [0.122, 91.12230876426287, 3.0], [0.048, 91.0507880330551, 0.33], [192.0, 276.5716988005414, 180.0], [3.0, 93.90388531042454, 25.0], [160.0, 245.643815035019, 169.0], [0.9, 91.87424293831214, 2.6], [1.62, 92.57012032303639, 11.4], [0.10400000000000001, 91.10491182964476, 2.5], [4.235, 95.09750832450017, 50.4]]}, \"id\": \"el440564566765920\", \"plugins\": [{\"type\": \"reset\"}, {\"type\": \"zoom\", \"button\": true, \"enabled\": false}, {\"type\": \"boxzoom\", \"button\": true, \"enabled\": false}]});\n",
       "            })\n",
       "         });\n",
       "}\n",
       "</script>"
      ],
      "text/plain": [
       "<matplotlib.figure.Figure at 0x110335160>"
      ]
     },
     "metadata": {},
     "output_type": "display_data"
    }
   ],
   "source": [
    "plt.scatter(xs,ys)\n",
    "plt.plot(xs, body_reg.predict(xs))\n",
    "plt.show()"
   ]
  },
  {
   "cell_type": "markdown",
   "metadata": {
    "collapsed": true
   },
   "source": [
    "# CHALLENGE"
   ]
  },
  {
   "cell_type": "code",
   "execution_count": 35,
   "metadata": {
    "collapsed": true
   },
   "outputs": [],
   "source": [
    "import pandas as pd\n",
    "from sklearn import linear_model\n",
    "import matplotlib.pyplot as plt\n",
    "import mpld3\n",
    "import math\n",
    "mpld3.enable_notebook()"
   ]
  },
  {
   "cell_type": "code",
   "execution_count": 19,
   "metadata": {
    "collapsed": true
   },
   "outputs": [],
   "source": [
    "df = pd.read_csv('datasets/challenge.txt')"
   ]
  },
  {
   "cell_type": "code",
   "execution_count": 20,
   "metadata": {
    "collapsed": false
   },
   "outputs": [
    {
     "data": {
      "text/html": [
       "<div>\n",
       "<table border=\"1\" class=\"dataframe\">\n",
       "  <thead>\n",
       "    <tr style=\"text-align: right;\">\n",
       "      <th></th>\n",
       "      <th>A</th>\n",
       "      <th>B</th>\n",
       "    </tr>\n",
       "  </thead>\n",
       "  <tbody>\n",
       "    <tr>\n",
       "      <th>0</th>\n",
       "      <td>6.1101</td>\n",
       "      <td>17.5920</td>\n",
       "    </tr>\n",
       "    <tr>\n",
       "      <th>1</th>\n",
       "      <td>5.5277</td>\n",
       "      <td>9.1302</td>\n",
       "    </tr>\n",
       "    <tr>\n",
       "      <th>2</th>\n",
       "      <td>8.5186</td>\n",
       "      <td>13.6620</td>\n",
       "    </tr>\n",
       "    <tr>\n",
       "      <th>3</th>\n",
       "      <td>7.0032</td>\n",
       "      <td>11.8540</td>\n",
       "    </tr>\n",
       "    <tr>\n",
       "      <th>4</th>\n",
       "      <td>5.8598</td>\n",
       "      <td>6.8233</td>\n",
       "    </tr>\n",
       "  </tbody>\n",
       "</table>\n",
       "</div>"
      ],
      "text/plain": [
       "        A        B\n",
       "0  6.1101  17.5920\n",
       "1  5.5277   9.1302\n",
       "2  8.5186  13.6620\n",
       "3  7.0032  11.8540\n",
       "4  5.8598   6.8233"
      ]
     },
     "execution_count": 20,
     "metadata": {},
     "output_type": "execute_result"
    }
   ],
   "source": [
    "df.head()"
   ]
  },
  {
   "cell_type": "code",
   "execution_count": 21,
   "metadata": {
    "collapsed": true
   },
   "outputs": [],
   "source": [
    "xs = df[['A']]\n",
    "ys = df[['B']]"
   ]
  },
  {
   "cell_type": "code",
   "execution_count": 24,
   "metadata": {
    "collapsed": false
   },
   "outputs": [
    {
     "data": {
      "image/png": "[encoded data removed]",
      "text/html": [
       "\n",
       "\n",
       "<style>\n",
       "\n",
       "</style>\n",
       "\n",
       "<div id=\"fig_el4405646510389848294188947\"></div>\n",
       "<script>\n",
       "function mpld3_load_lib(url, callback){\n",
       "  var s = document.createElement('script');\n",
       "  s.src = url;\n",
       "  s.async = true;\n",
       "  s.onreadystatechange = s.onload = callback;\n",
       "  s.onerror = function(){console.warn(\"failed to load library \" + url);};\n",
       "  document.getElementsByTagName(\"head\")[0].appendChild(s);\n",
       "}\n",
       "\n",
       "if(typeof(mpld3) !== \"undefined\" && mpld3._mpld3IsLoaded){\n",
       "   // already loaded: just create the figure\n",
       "   !function(mpld3){\n",
       "       \n",
       "       mpld3.draw_figure(\"fig_el4405646510389848294188947\", {\"width\": 432.0, \"height\": 288.0, \"axes\": [{\"bbox\": [0.125, 0.125, 0.775, 0.755], \"xlim\": [4.158238369175628, 23.071661630824376], \"ylim\": [-4.037261600441501, 25.503561600441497], \"xdomain\": [4.158238369175628, 23.071661630824376], \"ydomain\": [-4.037261600441501, 25.503561600441497], \"xscale\": \"linear\", \"yscale\": \"linear\", \"axes\": [{\"position\": \"bottom\", \"nticks\": 10, \"tickvalues\": null, \"tickformat\": null, \"scale\": \"linear\", \"fontsize\": 10.0, \"grid\": {\"gridOn\": false}, \"visible\": true}, {\"position\": \"left\", \"nticks\": 8, \"tickvalues\": null, \"tickformat\": null, \"scale\": \"linear\", \"fontsize\": 10.0, \"grid\": {\"gridOn\": false}, \"visible\": true}], \"axesbg\": \"#FFFFFF\", \"axesbgalpha\": null, \"zoomable\": true, \"id\": \"el440564651150640\", \"lines\": [], \"paths\": [], \"markers\": [], \"texts\": [], \"collections\": [{\"offsets\": \"data01\", \"xindex\": 0, \"yindex\": 1, \"paths\": [[[[0.0, -0.5], [0.13260155, -0.5], [0.25978993539242673, -0.44731684579412084], [0.3535533905932738, -0.3535533905932738], [0.44731684579412084, -0.25978993539242673], [0.5, -0.13260155], [0.5, 0.0], [0.5, 0.13260155], [0.44731684579412084, 0.25978993539242673], [0.3535533905932738, 0.3535533905932738], [0.25978993539242673, 0.44731684579412084], [0.13260155, 0.5], [0.0, 0.5], [-0.13260155, 0.5], [-0.25978993539242673, 0.44731684579412084], [-0.3535533905932738, 0.3535533905932738], [-0.44731684579412084, 0.25978993539242673], [-0.5, 0.13260155], [-0.5, 0.0], [-0.5, -0.13260155], [-0.44731684579412084, -0.25978993539242673], [-0.3535533905932738, -0.3535533905932738], [-0.25978993539242673, -0.44731684579412084], [-0.13260155, -0.5], [0.0, -0.5]], [\"M\", \"C\", \"C\", \"C\", \"C\", \"C\", \"C\", \"C\", \"C\", \"Z\"]]], \"pathtransforms\": [[6.0, 0.0, 0.0, 6.0, 0.0, 0.0]], \"alphas\": [null], \"edgecolors\": [\"#1F77B4\"], \"facecolors\": [\"#1F77B4\"], \"edgewidths\": [1.0], \"offsetcoordinates\": \"data\", \"pathcoordinates\": \"display\", \"zorder\": 1, \"id\": \"el440564652357112\"}], \"images\": [], \"sharex\": [], \"sharey\": []}], \"data\": {\"data01\": [[6.1101, 17.592], [5.5277, 9.1302], [8.5186, 13.662], [7.0032, 11.854000000000001], [5.8598, 6.8233], [8.3829, 11.886], [7.4764, 4.3483], [8.5781, 12.0], [6.4862, 6.5987], [5.0546, 3.8166], [5.7107, 3.2522], [14.164000000000001, 15.505], [5.734, 3.1551], [8.4084, 7.2258], [5.6407, 0.71618], [5.3794, 3.5129], [6.3654, 5.3048], [5.1301, 0.56077], [6.4296, 3.6518], [7.0708, 5.3893], [6.1891, 3.1386], [20.27, 21.767], [5.4901, 4.263], [6.3261, 5.1875], [5.5649, 3.0825], [18.945, 22.638], [12.828, 13.501], [10.957, 7.0467], [13.175999999999998, 14.692], [22.203000000000003, 24.147], [5.2524, -1.22], [6.5894, 5.9966], [9.2482, 12.134], [5.8918, 1.8495], [8.2111, 6.5426], [7.9334, 4.5623], [8.0959, 4.1164], [5.6063, 3.3928], [12.835999999999999, 10.117], [6.3534, 5.4974], [5.4069, 0.55657], [6.8825, 3.9115], [11.708, 5.3854], [5.7737, 2.4406], [7.8247, 6.7318], [7.0931, 1.0463], [5.0702, 5.1337], [5.8014, 1.844], [11.7, 8.0043], [5.5416, 1.0179], [7.5402, 6.7504], [5.3077, 1.8396], [7.4239, 4.2885], [7.6031, 4.9981], [6.3328, 1.4233], [6.3589, -1.4211], [6.2742, 2.4756], [5.6397, 4.6042], [9.3102, 3.9624], [9.4536, 5.4141], [8.8254, 5.1694], [5.1793, -0.74279], [21.279, 17.929000000000002], [14.908, 12.054], [18.959, 17.054000000000002], [7.2182, 4.8852], [8.2951, 5.7442], [10.236, 7.7754], [5.4994, 1.0173], [20.340999999999998, 20.991999999999997], [10.136000000000001, 6.6799], [7.3345, 4.0259], [6.0062, 1.2784], [7.2259, 3.3411], [5.0269, -2.6807], [6.5479, 0.29678000000000004], [7.5386, 3.8845], [5.0365, 5.7014], [10.274000000000001, 6.7526], [5.1077, 2.0576], [5.7292, 0.47953], [5.1884, 0.20421], [6.3557, 0.67861], [9.7687, 7.5435], [6.5159, 5.3436], [8.5172, 4.2415], [9.1802, 6.7981], [6.002000000000001, 0.92695], [5.5204, 0.152], [5.0594, 2.8214], [5.7077, 1.8451], [7.6366, 4.2959], [5.8707, 7.2029], [5.3054, 1.9869], [8.2934, 0.14454], [13.394, 9.0551], [5.4369, 0.61705]]}, \"id\": \"el440564651038984\", \"plugins\": [{\"type\": \"reset\"}, {\"type\": \"zoom\", \"button\": true, \"enabled\": false}, {\"type\": \"boxzoom\", \"button\": true, \"enabled\": false}]});\n",
       "   }(mpld3);\n",
       "}else if(typeof define === \"function\" && define.amd){\n",
       "   // require.js is available: use it to load d3/mpld3\n",
       "   require.config({paths: {d3: \"https://mpld3.github.io/js/d3.v3.min\"}});\n",
       "   require([\"d3\"], function(d3){\n",
       "      window.d3 = d3;\n",
       "      mpld3_load_lib(\"https://mpld3.github.io/js/mpld3.v0.3.js\", function(){\n",
       "         \n",
       "         mpld3.draw_figure(\"fig_el4405646510389848294188947\", {\"width\": 432.0, \"height\": 288.0, \"axes\": [{\"bbox\": [0.125, 0.125, 0.775, 0.755], \"xlim\": [4.158238369175628, 23.071661630824376], \"ylim\": [-4.037261600441501, 25.503561600441497], \"xdomain\": [4.158238369175628, 23.071661630824376], \"ydomain\": [-4.037261600441501, 25.503561600441497], \"xscale\": \"linear\", \"yscale\": \"linear\", \"axes\": [{\"position\": \"bottom\", \"nticks\": 10, \"tickvalues\": null, \"tickformat\": null, \"scale\": \"linear\", \"fontsize\": 10.0, \"grid\": {\"gridOn\": false}, \"visible\": true}, {\"position\": \"left\", \"nticks\": 8, \"tickvalues\": null, \"tickformat\": null, \"scale\": \"linear\", \"fontsize\": 10.0, \"grid\": {\"gridOn\": false}, \"visible\": true}], \"axesbg\": \"#FFFFFF\", \"axesbgalpha\": null, \"zoomable\": true, \"id\": \"el440564651150640\", \"lines\": [], \"paths\": [], \"markers\": [], \"texts\": [], \"collections\": [{\"offsets\": \"data01\", \"xindex\": 0, \"yindex\": 1, \"paths\": [[[[0.0, -0.5], [0.13260155, -0.5], [0.25978993539242673, -0.44731684579412084], [0.3535533905932738, -0.3535533905932738], [0.44731684579412084, -0.25978993539242673], [0.5, -0.13260155], [0.5, 0.0], [0.5, 0.13260155], [0.44731684579412084, 0.25978993539242673], [0.3535533905932738, 0.3535533905932738], [0.25978993539242673, 0.44731684579412084], [0.13260155, 0.5], [0.0, 0.5], [-0.13260155, 0.5], [-0.25978993539242673, 0.44731684579412084], [-0.3535533905932738, 0.3535533905932738], [-0.44731684579412084, 0.25978993539242673], [-0.5, 0.13260155], [-0.5, 0.0], [-0.5, -0.13260155], [-0.44731684579412084, -0.25978993539242673], [-0.3535533905932738, -0.3535533905932738], [-0.25978993539242673, -0.44731684579412084], [-0.13260155, -0.5], [0.0, -0.5]], [\"M\", \"C\", \"C\", \"C\", \"C\", \"C\", \"C\", \"C\", \"C\", \"Z\"]]], \"pathtransforms\": [[6.0, 0.0, 0.0, 6.0, 0.0, 0.0]], \"alphas\": [null], \"edgecolors\": [\"#1F77B4\"], \"facecolors\": [\"#1F77B4\"], \"edgewidths\": [1.0], \"offsetcoordinates\": \"data\", \"pathcoordinates\": \"display\", \"zorder\": 1, \"id\": \"el440564652357112\"}], \"images\": [], \"sharex\": [], \"sharey\": []}], \"data\": {\"data01\": [[6.1101, 17.592], [5.5277, 9.1302], [8.5186, 13.662], [7.0032, 11.854000000000001], [5.8598, 6.8233], [8.3829, 11.886], [7.4764, 4.3483], [8.5781, 12.0], [6.4862, 6.5987], [5.0546, 3.8166], [5.7107, 3.2522], [14.164000000000001, 15.505], [5.734, 3.1551], [8.4084, 7.2258], [5.6407, 0.71618], [5.3794, 3.5129], [6.3654, 5.3048], [5.1301, 0.56077], [6.4296, 3.6518], [7.0708, 5.3893], [6.1891, 3.1386], [20.27, 21.767], [5.4901, 4.263], [6.3261, 5.1875], [5.5649, 3.0825], [18.945, 22.638], [12.828, 13.501], [10.957, 7.0467], [13.175999999999998, 14.692], [22.203000000000003, 24.147], [5.2524, -1.22], [6.5894, 5.9966], [9.2482, 12.134], [5.8918, 1.8495], [8.2111, 6.5426], [7.9334, 4.5623], [8.0959, 4.1164], [5.6063, 3.3928], [12.835999999999999, 10.117], [6.3534, 5.4974], [5.4069, 0.55657], [6.8825, 3.9115], [11.708, 5.3854], [5.7737, 2.4406], [7.8247, 6.7318], [7.0931, 1.0463], [5.0702, 5.1337], [5.8014, 1.844], [11.7, 8.0043], [5.5416, 1.0179], [7.5402, 6.7504], [5.3077, 1.8396], [7.4239, 4.2885], [7.6031, 4.9981], [6.3328, 1.4233], [6.3589, -1.4211], [6.2742, 2.4756], [5.6397, 4.6042], [9.3102, 3.9624], [9.4536, 5.4141], [8.8254, 5.1694], [5.1793, -0.74279], [21.279, 17.929000000000002], [14.908, 12.054], [18.959, 17.054000000000002], [7.2182, 4.8852], [8.2951, 5.7442], [10.236, 7.7754], [5.4994, 1.0173], [20.340999999999998, 20.991999999999997], [10.136000000000001, 6.6799], [7.3345, 4.0259], [6.0062, 1.2784], [7.2259, 3.3411], [5.0269, -2.6807], [6.5479, 0.29678000000000004], [7.5386, 3.8845], [5.0365, 5.7014], [10.274000000000001, 6.7526], [5.1077, 2.0576], [5.7292, 0.47953], [5.1884, 0.20421], [6.3557, 0.67861], [9.7687, 7.5435], [6.5159, 5.3436], [8.5172, 4.2415], [9.1802, 6.7981], [6.002000000000001, 0.92695], [5.5204, 0.152], [5.0594, 2.8214], [5.7077, 1.8451], [7.6366, 4.2959], [5.8707, 7.2029], [5.3054, 1.9869], [8.2934, 0.14454], [13.394, 9.0551], [5.4369, 0.61705]]}, \"id\": \"el440564651038984\", \"plugins\": [{\"type\": \"reset\"}, {\"type\": \"zoom\", \"button\": true, \"enabled\": false}, {\"type\": \"boxzoom\", \"button\": true, \"enabled\": false}]});\n",
       "      });\n",
       "    });\n",
       "}else{\n",
       "    // require.js not available: dynamically load d3 & mpld3\n",
       "    mpld3_load_lib(\"https://mpld3.github.io/js/d3.v3.min.js\", function(){\n",
       "         mpld3_load_lib(\"https://mpld3.github.io/js/mpld3.v0.3.js\", function(){\n",
       "                 \n",
       "                 mpld3.draw_figure(\"fig_el4405646510389848294188947\", {\"width\": 432.0, \"height\": 288.0, \"axes\": [{\"bbox\": [0.125, 0.125, 0.775, 0.755], \"xlim\": [4.158238369175628, 23.071661630824376], \"ylim\": [-4.037261600441501, 25.503561600441497], \"xdomain\": [4.158238369175628, 23.071661630824376], \"ydomain\": [-4.037261600441501, 25.503561600441497], \"xscale\": \"linear\", \"yscale\": \"linear\", \"axes\": [{\"position\": \"bottom\", \"nticks\": 10, \"tickvalues\": null, \"tickformat\": null, \"scale\": \"linear\", \"fontsize\": 10.0, \"grid\": {\"gridOn\": false}, \"visible\": true}, {\"position\": \"left\", \"nticks\": 8, \"tickvalues\": null, \"tickformat\": null, \"scale\": \"linear\", \"fontsize\": 10.0, \"grid\": {\"gridOn\": false}, \"visible\": true}], \"axesbg\": \"#FFFFFF\", \"axesbgalpha\": null, \"zoomable\": true, \"id\": \"el440564651150640\", \"lines\": [], \"paths\": [], \"markers\": [], \"texts\": [], \"collections\": [{\"offsets\": \"data01\", \"xindex\": 0, \"yindex\": 1, \"paths\": [[[[0.0, -0.5], [0.13260155, -0.5], [0.25978993539242673, -0.44731684579412084], [0.3535533905932738, -0.3535533905932738], [0.44731684579412084, -0.25978993539242673], [0.5, -0.13260155], [0.5, 0.0], [0.5, 0.13260155], [0.44731684579412084, 0.25978993539242673], [0.3535533905932738, 0.3535533905932738], [0.25978993539242673, 0.44731684579412084], [0.13260155, 0.5], [0.0, 0.5], [-0.13260155, 0.5], [-0.25978993539242673, 0.44731684579412084], [-0.3535533905932738, 0.3535533905932738], [-0.44731684579412084, 0.25978993539242673], [-0.5, 0.13260155], [-0.5, 0.0], [-0.5, -0.13260155], [-0.44731684579412084, -0.25978993539242673], [-0.3535533905932738, -0.3535533905932738], [-0.25978993539242673, -0.44731684579412084], [-0.13260155, -0.5], [0.0, -0.5]], [\"M\", \"C\", \"C\", \"C\", \"C\", \"C\", \"C\", \"C\", \"C\", \"Z\"]]], \"pathtransforms\": [[6.0, 0.0, 0.0, 6.0, 0.0, 0.0]], \"alphas\": [null], \"edgecolors\": [\"#1F77B4\"], \"facecolors\": [\"#1F77B4\"], \"edgewidths\": [1.0], \"offsetcoordinates\": \"data\", \"pathcoordinates\": \"display\", \"zorder\": 1, \"id\": \"el440564652357112\"}], \"images\": [], \"sharex\": [], \"sharey\": []}], \"data\": {\"data01\": [[6.1101, 17.592], [5.5277, 9.1302], [8.5186, 13.662], [7.0032, 11.854000000000001], [5.8598, 6.8233], [8.3829, 11.886], [7.4764, 4.3483], [8.5781, 12.0], [6.4862, 6.5987], [5.0546, 3.8166], [5.7107, 3.2522], [14.164000000000001, 15.505], [5.734, 3.1551], [8.4084, 7.2258], [5.6407, 0.71618], [5.3794, 3.5129], [6.3654, 5.3048], [5.1301, 0.56077], [6.4296, 3.6518], [7.0708, 5.3893], [6.1891, 3.1386], [20.27, 21.767], [5.4901, 4.263], [6.3261, 5.1875], [5.5649, 3.0825], [18.945, 22.638], [12.828, 13.501], [10.957, 7.0467], [13.175999999999998, 14.692], [22.203000000000003, 24.147], [5.2524, -1.22], [6.5894, 5.9966], [9.2482, 12.134], [5.8918, 1.8495], [8.2111, 6.5426], [7.9334, 4.5623], [8.0959, 4.1164], [5.6063, 3.3928], [12.835999999999999, 10.117], [6.3534, 5.4974], [5.4069, 0.55657], [6.8825, 3.9115], [11.708, 5.3854], [5.7737, 2.4406], [7.8247, 6.7318], [7.0931, 1.0463], [5.0702, 5.1337], [5.8014, 1.844], [11.7, 8.0043], [5.5416, 1.0179], [7.5402, 6.7504], [5.3077, 1.8396], [7.4239, 4.2885], [7.6031, 4.9981], [6.3328, 1.4233], [6.3589, -1.4211], [6.2742, 2.4756], [5.6397, 4.6042], [9.3102, 3.9624], [9.4536, 5.4141], [8.8254, 5.1694], [5.1793, -0.74279], [21.279, 17.929000000000002], [14.908, 12.054], [18.959, 17.054000000000002], [7.2182, 4.8852], [8.2951, 5.7442], [10.236, 7.7754], [5.4994, 1.0173], [20.340999999999998, 20.991999999999997], [10.136000000000001, 6.6799], [7.3345, 4.0259], [6.0062, 1.2784], [7.2259, 3.3411], [5.0269, -2.6807], [6.5479, 0.29678000000000004], [7.5386, 3.8845], [5.0365, 5.7014], [10.274000000000001, 6.7526], [5.1077, 2.0576], [5.7292, 0.47953], [5.1884, 0.20421], [6.3557, 0.67861], [9.7687, 7.5435], [6.5159, 5.3436], [8.5172, 4.2415], [9.1802, 6.7981], [6.002000000000001, 0.92695], [5.5204, 0.152], [5.0594, 2.8214], [5.7077, 1.8451], [7.6366, 4.2959], [5.8707, 7.2029], [5.3054, 1.9869], [8.2934, 0.14454], [13.394, 9.0551], [5.4369, 0.61705]]}, \"id\": \"el440564651038984\", \"plugins\": [{\"type\": \"reset\"}, {\"type\": \"zoom\", \"button\": true, \"enabled\": false}, {\"type\": \"boxzoom\", \"button\": true, \"enabled\": false}]});\n",
       "            })\n",
       "         });\n",
       "}\n",
       "</script>"
      ],
      "text/plain": [
       "<matplotlib.figure.Figure at 0x115393908>"
      ]
     },
     "metadata": {},
     "output_type": "display_data"
    }
   ],
   "source": [
    "plt.scatter(xs, ys)\n",
    "plt.show()"
   ]
  },
  {
   "cell_type": "code",
   "execution_count": 25,
   "metadata": {
    "collapsed": true
   },
   "outputs": [],
   "source": [
    "my_regression_model = linear_model.LinearRegression()"
   ]
  },
  {
   "cell_type": "code",
   "execution_count": 26,
   "metadata": {
    "collapsed": false
   },
   "outputs": [
    {
     "data": {
      "text/plain": [
       "LinearRegression(copy_X=True, fit_intercept=True, n_jobs=1, normalize=False)"
      ]
     },
     "execution_count": 26,
     "metadata": {},
     "output_type": "execute_result"
    }
   ],
   "source": [
    "my_regression_model.fit(xs,ys)"
   ]
  },
  {
   "cell_type": "code",
   "execution_count": 81,
   "metadata": {
    "collapsed": false
   },
   "outputs": [
    {
     "data": {
      "image/png": "[encoded data removed]",
      "text/html": [
       "\n",
       "\n",
       "<style>\n",
       "\n",
       "</style>\n",
       "\n",
       "<div id=\"fig_el4405646587410882790549025\"></div>\n",
       "<script>\n",
       "function mpld3_load_lib(url, callback){\n",
       "  var s = document.createElement('script');\n",
       "  s.src = url;\n",
       "  s.async = true;\n",
       "  s.onreadystatechange = s.onload = callback;\n",
       "  s.onerror = function(){console.warn(\"failed to load library \" + url);};\n",
       "  document.getElementsByTagName(\"head\")[0].appendChild(s);\n",
       "}\n",
       "\n",
       "if(typeof(mpld3) !== \"undefined\" && mpld3._mpld3IsLoaded){\n",
       "   // already loaded: just create the figure\n",
       "   !function(mpld3){\n",
       "       \n",
       "       mpld3.draw_figure(\"fig_el4405646587410882790549025\", {\"width\": 432.0, \"height\": 288.0, \"axes\": [{\"bbox\": [0.125, 0.125, 0.775, 0.755], \"xlim\": [3.9818666756272405, 23.248033324372763], \"ylim\": [-4.364178196232306, 25.830478196232303], \"xdomain\": [3.9818666756272405, 23.248033324372763], \"ydomain\": [-4.364178196232306, 25.830478196232303], \"xscale\": \"linear\", \"yscale\": \"linear\", \"axes\": [{\"position\": \"bottom\", \"nticks\": 10, \"tickvalues\": null, \"tickformat\": null, \"scale\": \"linear\", \"fontsize\": 10.0, \"grid\": {\"gridOn\": false}, \"visible\": true}, {\"position\": \"left\", \"nticks\": 8, \"tickvalues\": null, \"tickformat\": null, \"scale\": \"linear\", \"fontsize\": 10.0, \"grid\": {\"gridOn\": false}, \"visible\": true}], \"axesbg\": \"#FFFFFF\", \"axesbgalpha\": null, \"zoomable\": true, \"id\": \"el440564658503296\", \"lines\": [{\"data\": \"data01\", \"xindex\": 0, \"yindex\": 1, \"coordinates\": \"data\", \"id\": \"el440564659545872\", \"color\": \"#1F77B4\", \"linewidth\": 1.5, \"dasharray\": \"none\", \"alpha\": 1, \"zorder\": 2, \"drawstyle\": \"default\"}], \"paths\": [], \"markers\": [], \"texts\": [], \"collections\": [{\"offsets\": \"data01\", \"xindex\": 0, \"yindex\": 2, \"paths\": [[[[0.0, -0.5], [0.13260155, -0.5], [0.25978993539242673, -0.44731684579412084], [0.3535533905932738, -0.3535533905932738], [0.44731684579412084, -0.25978993539242673], [0.5, -0.13260155], [0.5, 0.0], [0.5, 0.13260155], [0.44731684579412084, 0.25978993539242673], [0.3535533905932738, 0.3535533905932738], [0.25978993539242673, 0.44731684579412084], [0.13260155, 0.5], [0.0, 0.5], [-0.13260155, 0.5], [-0.25978993539242673, 0.44731684579412084], [-0.3535533905932738, 0.3535533905932738], [-0.44731684579412084, 0.25978993539242673], [-0.5, 0.13260155], [-0.5, 0.0], [-0.5, -0.13260155], [-0.44731684579412084, -0.25978993539242673], [-0.3535533905932738, -0.3535533905932738], [-0.25978993539242673, -0.44731684579412084], [-0.13260155, -0.5], [0.0, -0.5]], [\"M\", \"C\", \"C\", \"C\", \"C\", \"C\", \"C\", \"C\", \"C\", \"Z\"]]], \"pathtransforms\": [[6.0, 0.0, 0.0, 6.0, 0.0, 0.0]], \"alphas\": [null], \"edgecolors\": [\"#1F77B4\"], \"facecolors\": [\"#1F77B4\"], \"edgewidths\": [1.0], \"offsetcoordinates\": \"data\", \"pathcoordinates\": \"display\", \"zorder\": 1, \"id\": \"el440564658740920\"}], \"images\": [], \"sharex\": [], \"sharey\": []}], \"data\": {\"data01\": [[6.1101, 3.393773991050984, 17.592], [5.5277, 2.6989511966749644, 9.1302], [8.5186, 6.26719552308162, 13.662], [7.0032, 4.45927233867671, 11.854000000000001], [5.8598, 3.0951576699103285, 6.8233], [8.3829, 6.105300857565092, 11.886], [7.4764, 5.023815859107225, 4.3483], [8.5781, 6.3381810249109005, 12.0], [6.4862, 3.84247394463069, 6.5987], [5.0546, 2.134526979608867, 3.8166], [5.7107, 2.91727635356166, 3.2522], [14.164000000000001, 13.002347657989556, 15.505], [5.734, 2.9450740374712776, 3.1551], [8.4084, 6.135723215491929, 7.2258], [5.6407, 2.8337639984683882, 0.71618], [5.3794, 2.522024307241648, 3.5129], [6.3654, 3.6983554804125873, 5.3048], [5.1301, 2.2246010197451813, 0.56077], [6.4296, 3.774948240369559, 3.6518], [7.0708, 4.539921413023928, 5.3893], [6.1891, 3.4880236489419616, 3.1386], [20.27, 20.287011089411216, 21.767], [5.4901, 2.6540931316534353, 4.263], [6.3261, 3.6514692581959363, 5.1875], [5.5649, 2.743332048238817, 3.0825], [18.945, 18.706241510860004, 22.638], [12.828, 11.408454709352256, 13.501], [10.957, 9.176288761073527, 7.0467], [13.175999999999998, 11.823630417530234, 14.692], [22.203000000000003, 22.593145123629704, 24.147], [5.2524, 2.3705090344295687, -1.22], [6.5894, 3.965595016711057, 5.9966], [9.2482, 7.137632869882349, 12.134], [5.8918, 3.1333347465243957, 1.8495], [8.2111, 5.9003376774933205, 6.5426], [7.9334, 5.56903223450187, 4.5623], [8.0959, 5.76290020168268, 4.1164], [5.6063, 2.7927236411082665, 3.3928], [12.835999999999999, 11.417998978505771, 10.117], [6.3534, 3.6840390766823115, 5.4974], [5.4069, 2.5548327324568616, 0.55657], [6.8825, 4.315273177823027, 3.9115], [11.708, 10.072257027859912, 5.3854], [5.7737, 2.9924374731456043, 2.4406], [7.8247, 5.439349477378462, 6.7318], [7.0931, 4.566526063289354, 1.0463], [5.0702, 2.153138304458225, 5.1337], [5.8014, 3.025484505089657, 1.844], [11.7, 10.062712758706395, 8.0043], [5.5416, 2.7155343643291996, 1.0179], [7.5402, 5.099931405606522, 6.7504], [5.3077, 2.4364837949532534, 1.8396], [7.4239, 4.9611815927872716, 4.2885], [7.6031, 5.174973221826049, 4.9981], [6.3328, 3.6594625836120063, 1.4233], [6.3589, 3.6906007617253556, -1.4211], [6.2742, 3.5895508120624973, 2.4756], [5.6397, 2.8325709648241997, 4.6042], [9.3102, 7.211600955822103, 3.9624], [9.4536, 7.382681980398891, 5.4141], [8.8254, 6.633218245118988, 5.1694], [5.1793, 2.28329827503931, -0.74279], [21.279, 21.490782036398514, 17.929000000000002], [14.908, 13.889964689266613, 12.054], [18.959, 18.722943981878657, 17.054000000000002], [7.2182, 4.715774572177473, 4.8852], [8.2951, 6.000552503605247, 5.7442], [10.236, 8.31611150361283, 7.7754], [5.4994, 2.665188344544399, 1.0173], [20.340999999999998, 20.371716478148674, 20.991999999999997], [10.136000000000001, 8.196808139193871, 6.6799], [7.3345, 4.854524384996724, 4.0259], [6.0062, 3.2698177954196845, 1.2784], [7.2259, 4.724960931237733, 3.3411], [5.0269, 2.1014799476648163, -2.6807], [6.5479, 3.916084120477189, 0.29678000000000004], [7.5386, 5.098022551775818, 3.8845], [5.0365, 2.112933070649036, 5.7014], [10.274000000000001, 8.361446782092035, 6.7526], [5.1077, 2.1978770661153355, 2.0576], [5.7292, 2.939347475979167, 0.47953], [5.1884, 2.294154881201435, 0.20421], [6.3557, 3.686783054063948, 0.67861], [9.7687, 7.758606881683033, 7.5435], [6.5159, 3.8779070438631216, 5.3436], [8.5172, 6.265525275979757, 4.2415], [9.1802, 7.056506582077455, 6.7981], [6.002000000000001, 3.2648070541140894, 0.92695], [5.5204, 2.6902420510723806, 0.152], [5.0594, 2.1402535411009778, 2.8214], [5.7077, 2.913697252629091, 1.8451], [7.6366, 5.214939848906399, 4.2959], [5.8707, 3.1081617366319954, 7.2029], [5.3054, 2.4337398175716176, 1.9869], [8.2934, 5.998524346410125, 0.14454], [13.394, 12.083711751963568, 9.0551], [5.4369, 2.590623741782549, 0.61705]]}, \"id\": \"el440564658741088\", \"plugins\": [{\"type\": \"reset\"}, {\"type\": \"zoom\", \"button\": true, \"enabled\": false}, {\"type\": \"boxzoom\", \"button\": true, \"enabled\": false}]});\n",
       "   }(mpld3);\n",
       "}else if(typeof define === \"function\" && define.amd){\n",
       "   // require.js is available: use it to load d3/mpld3\n",
       "   require.config({paths: {d3: \"https://mpld3.github.io/js/d3.v3.min\"}});\n",
       "   require([\"d3\"], function(d3){\n",
       "      window.d3 = d3;\n",
       "      mpld3_load_lib(\"https://mpld3.github.io/js/mpld3.v0.3.js\", function(){\n",
       "         \n",
       "         mpld3.draw_figure(\"fig_el4405646587410882790549025\", {\"width\": 432.0, \"height\": 288.0, \"axes\": [{\"bbox\": [0.125, 0.125, 0.775, 0.755], \"xlim\": [3.9818666756272405, 23.248033324372763], \"ylim\": [-4.364178196232306, 25.830478196232303], \"xdomain\": [3.9818666756272405, 23.248033324372763], \"ydomain\": [-4.364178196232306, 25.830478196232303], \"xscale\": \"linear\", \"yscale\": \"linear\", \"axes\": [{\"position\": \"bottom\", \"nticks\": 10, \"tickvalues\": null, \"tickformat\": null, \"scale\": \"linear\", \"fontsize\": 10.0, \"grid\": {\"gridOn\": false}, \"visible\": true}, {\"position\": \"left\", \"nticks\": 8, \"tickvalues\": null, \"tickformat\": null, \"scale\": \"linear\", \"fontsize\": 10.0, \"grid\": {\"gridOn\": false}, \"visible\": true}], \"axesbg\": \"#FFFFFF\", \"axesbgalpha\": null, \"zoomable\": true, \"id\": \"el440564658503296\", \"lines\": [{\"data\": \"data01\", \"xindex\": 0, \"yindex\": 1, \"coordinates\": \"data\", \"id\": \"el440564659545872\", \"color\": \"#1F77B4\", \"linewidth\": 1.5, \"dasharray\": \"none\", \"alpha\": 1, \"zorder\": 2, \"drawstyle\": \"default\"}], \"paths\": [], \"markers\": [], \"texts\": [], \"collections\": [{\"offsets\": \"data01\", \"xindex\": 0, \"yindex\": 2, \"paths\": [[[[0.0, -0.5], [0.13260155, -0.5], [0.25978993539242673, -0.44731684579412084], [0.3535533905932738, -0.3535533905932738], [0.44731684579412084, -0.25978993539242673], [0.5, -0.13260155], [0.5, 0.0], [0.5, 0.13260155], [0.44731684579412084, 0.25978993539242673], [0.3535533905932738, 0.3535533905932738], [0.25978993539242673, 0.44731684579412084], [0.13260155, 0.5], [0.0, 0.5], [-0.13260155, 0.5], [-0.25978993539242673, 0.44731684579412084], [-0.3535533905932738, 0.3535533905932738], [-0.44731684579412084, 0.25978993539242673], [-0.5, 0.13260155], [-0.5, 0.0], [-0.5, -0.13260155], [-0.44731684579412084, -0.25978993539242673], [-0.3535533905932738, -0.3535533905932738], [-0.25978993539242673, -0.44731684579412084], [-0.13260155, -0.5], [0.0, -0.5]], [\"M\", \"C\", \"C\", \"C\", \"C\", \"C\", \"C\", \"C\", \"C\", \"Z\"]]], \"pathtransforms\": [[6.0, 0.0, 0.0, 6.0, 0.0, 0.0]], \"alphas\": [null], \"edgecolors\": [\"#1F77B4\"], \"facecolors\": [\"#1F77B4\"], \"edgewidths\": [1.0], \"offsetcoordinates\": \"data\", \"pathcoordinates\": \"display\", \"zorder\": 1, \"id\": \"el440564658740920\"}], \"images\": [], \"sharex\": [], \"sharey\": []}], \"data\": {\"data01\": [[6.1101, 3.393773991050984, 17.592], [5.5277, 2.6989511966749644, 9.1302], [8.5186, 6.26719552308162, 13.662], [7.0032, 4.45927233867671, 11.854000000000001], [5.8598, 3.0951576699103285, 6.8233], [8.3829, 6.105300857565092, 11.886], [7.4764, 5.023815859107225, 4.3483], [8.5781, 6.3381810249109005, 12.0], [6.4862, 3.84247394463069, 6.5987], [5.0546, 2.134526979608867, 3.8166], [5.7107, 2.91727635356166, 3.2522], [14.164000000000001, 13.002347657989556, 15.505], [5.734, 2.9450740374712776, 3.1551], [8.4084, 6.135723215491929, 7.2258], [5.6407, 2.8337639984683882, 0.71618], [5.3794, 2.522024307241648, 3.5129], [6.3654, 3.6983554804125873, 5.3048], [5.1301, 2.2246010197451813, 0.56077], [6.4296, 3.774948240369559, 3.6518], [7.0708, 4.539921413023928, 5.3893], [6.1891, 3.4880236489419616, 3.1386], [20.27, 20.287011089411216, 21.767], [5.4901, 2.6540931316534353, 4.263], [6.3261, 3.6514692581959363, 5.1875], [5.5649, 2.743332048238817, 3.0825], [18.945, 18.706241510860004, 22.638], [12.828, 11.408454709352256, 13.501], [10.957, 9.176288761073527, 7.0467], [13.175999999999998, 11.823630417530234, 14.692], [22.203000000000003, 22.593145123629704, 24.147], [5.2524, 2.3705090344295687, -1.22], [6.5894, 3.965595016711057, 5.9966], [9.2482, 7.137632869882349, 12.134], [5.8918, 3.1333347465243957, 1.8495], [8.2111, 5.9003376774933205, 6.5426], [7.9334, 5.56903223450187, 4.5623], [8.0959, 5.76290020168268, 4.1164], [5.6063, 2.7927236411082665, 3.3928], [12.835999999999999, 11.417998978505771, 10.117], [6.3534, 3.6840390766823115, 5.4974], [5.4069, 2.5548327324568616, 0.55657], [6.8825, 4.315273177823027, 3.9115], [11.708, 10.072257027859912, 5.3854], [5.7737, 2.9924374731456043, 2.4406], [7.8247, 5.439349477378462, 6.7318], [7.0931, 4.566526063289354, 1.0463], [5.0702, 2.153138304458225, 5.1337], [5.8014, 3.025484505089657, 1.844], [11.7, 10.062712758706395, 8.0043], [5.5416, 2.7155343643291996, 1.0179], [7.5402, 5.099931405606522, 6.7504], [5.3077, 2.4364837949532534, 1.8396], [7.4239, 4.9611815927872716, 4.2885], [7.6031, 5.174973221826049, 4.9981], [6.3328, 3.6594625836120063, 1.4233], [6.3589, 3.6906007617253556, -1.4211], [6.2742, 3.5895508120624973, 2.4756], [5.6397, 2.8325709648241997, 4.6042], [9.3102, 7.211600955822103, 3.9624], [9.4536, 7.382681980398891, 5.4141], [8.8254, 6.633218245118988, 5.1694], [5.1793, 2.28329827503931, -0.74279], [21.279, 21.490782036398514, 17.929000000000002], [14.908, 13.889964689266613, 12.054], [18.959, 18.722943981878657, 17.054000000000002], [7.2182, 4.715774572177473, 4.8852], [8.2951, 6.000552503605247, 5.7442], [10.236, 8.31611150361283, 7.7754], [5.4994, 2.665188344544399, 1.0173], [20.340999999999998, 20.371716478148674, 20.991999999999997], [10.136000000000001, 8.196808139193871, 6.6799], [7.3345, 4.854524384996724, 4.0259], [6.0062, 3.2698177954196845, 1.2784], [7.2259, 4.724960931237733, 3.3411], [5.0269, 2.1014799476648163, -2.6807], [6.5479, 3.916084120477189, 0.29678000000000004], [7.5386, 5.098022551775818, 3.8845], [5.0365, 2.112933070649036, 5.7014], [10.274000000000001, 8.361446782092035, 6.7526], [5.1077, 2.1978770661153355, 2.0576], [5.7292, 2.939347475979167, 0.47953], [5.1884, 2.294154881201435, 0.20421], [6.3557, 3.686783054063948, 0.67861], [9.7687, 7.758606881683033, 7.5435], [6.5159, 3.8779070438631216, 5.3436], [8.5172, 6.265525275979757, 4.2415], [9.1802, 7.056506582077455, 6.7981], [6.002000000000001, 3.2648070541140894, 0.92695], [5.5204, 2.6902420510723806, 0.152], [5.0594, 2.1402535411009778, 2.8214], [5.7077, 2.913697252629091, 1.8451], [7.6366, 5.214939848906399, 4.2959], [5.8707, 3.1081617366319954, 7.2029], [5.3054, 2.4337398175716176, 1.9869], [8.2934, 5.998524346410125, 0.14454], [13.394, 12.083711751963568, 9.0551], [5.4369, 2.590623741782549, 0.61705]]}, \"id\": \"el440564658741088\", \"plugins\": [{\"type\": \"reset\"}, {\"type\": \"zoom\", \"button\": true, \"enabled\": false}, {\"type\": \"boxzoom\", \"button\": true, \"enabled\": false}]});\n",
       "      });\n",
       "    });\n",
       "}else{\n",
       "    // require.js not available: dynamically load d3 & mpld3\n",
       "    mpld3_load_lib(\"https://mpld3.github.io/js/d3.v3.min.js\", function(){\n",
       "         mpld3_load_lib(\"https://mpld3.github.io/js/mpld3.v0.3.js\", function(){\n",
       "                 \n",
       "                 mpld3.draw_figure(\"fig_el4405646587410882790549025\", {\"width\": 432.0, \"height\": 288.0, \"axes\": [{\"bbox\": [0.125, 0.125, 0.775, 0.755], \"xlim\": [3.9818666756272405, 23.248033324372763], \"ylim\": [-4.364178196232306, 25.830478196232303], \"xdomain\": [3.9818666756272405, 23.248033324372763], \"ydomain\": [-4.364178196232306, 25.830478196232303], \"xscale\": \"linear\", \"yscale\": \"linear\", \"axes\": [{\"position\": \"bottom\", \"nticks\": 10, \"tickvalues\": null, \"tickformat\": null, \"scale\": \"linear\", \"fontsize\": 10.0, \"grid\": {\"gridOn\": false}, \"visible\": true}, {\"position\": \"left\", \"nticks\": 8, \"tickvalues\": null, \"tickformat\": null, \"scale\": \"linear\", \"fontsize\": 10.0, \"grid\": {\"gridOn\": false}, \"visible\": true}], \"axesbg\": \"#FFFFFF\", \"axesbgalpha\": null, \"zoomable\": true, \"id\": \"el440564658503296\", \"lines\": [{\"data\": \"data01\", \"xindex\": 0, \"yindex\": 1, \"coordinates\": \"data\", \"id\": \"el440564659545872\", \"color\": \"#1F77B4\", \"linewidth\": 1.5, \"dasharray\": \"none\", \"alpha\": 1, \"zorder\": 2, \"drawstyle\": \"default\"}], \"paths\": [], \"markers\": [], \"texts\": [], \"collections\": [{\"offsets\": \"data01\", \"xindex\": 0, \"yindex\": 2, \"paths\": [[[[0.0, -0.5], [0.13260155, -0.5], [0.25978993539242673, -0.44731684579412084], [0.3535533905932738, -0.3535533905932738], [0.44731684579412084, -0.25978993539242673], [0.5, -0.13260155], [0.5, 0.0], [0.5, 0.13260155], [0.44731684579412084, 0.25978993539242673], [0.3535533905932738, 0.3535533905932738], [0.25978993539242673, 0.44731684579412084], [0.13260155, 0.5], [0.0, 0.5], [-0.13260155, 0.5], [-0.25978993539242673, 0.44731684579412084], [-0.3535533905932738, 0.3535533905932738], [-0.44731684579412084, 0.25978993539242673], [-0.5, 0.13260155], [-0.5, 0.0], [-0.5, -0.13260155], [-0.44731684579412084, -0.25978993539242673], [-0.3535533905932738, -0.3535533905932738], [-0.25978993539242673, -0.44731684579412084], [-0.13260155, -0.5], [0.0, -0.5]], [\"M\", \"C\", \"C\", \"C\", \"C\", \"C\", \"C\", \"C\", \"C\", \"Z\"]]], \"pathtransforms\": [[6.0, 0.0, 0.0, 6.0, 0.0, 0.0]], \"alphas\": [null], \"edgecolors\": [\"#1F77B4\"], \"facecolors\": [\"#1F77B4\"], \"edgewidths\": [1.0], \"offsetcoordinates\": \"data\", \"pathcoordinates\": \"display\", \"zorder\": 1, \"id\": \"el440564658740920\"}], \"images\": [], \"sharex\": [], \"sharey\": []}], \"data\": {\"data01\": [[6.1101, 3.393773991050984, 17.592], [5.5277, 2.6989511966749644, 9.1302], [8.5186, 6.26719552308162, 13.662], [7.0032, 4.45927233867671, 11.854000000000001], [5.8598, 3.0951576699103285, 6.8233], [8.3829, 6.105300857565092, 11.886], [7.4764, 5.023815859107225, 4.3483], [8.5781, 6.3381810249109005, 12.0], [6.4862, 3.84247394463069, 6.5987], [5.0546, 2.134526979608867, 3.8166], [5.7107, 2.91727635356166, 3.2522], [14.164000000000001, 13.002347657989556, 15.505], [5.734, 2.9450740374712776, 3.1551], [8.4084, 6.135723215491929, 7.2258], [5.6407, 2.8337639984683882, 0.71618], [5.3794, 2.522024307241648, 3.5129], [6.3654, 3.6983554804125873, 5.3048], [5.1301, 2.2246010197451813, 0.56077], [6.4296, 3.774948240369559, 3.6518], [7.0708, 4.539921413023928, 5.3893], [6.1891, 3.4880236489419616, 3.1386], [20.27, 20.287011089411216, 21.767], [5.4901, 2.6540931316534353, 4.263], [6.3261, 3.6514692581959363, 5.1875], [5.5649, 2.743332048238817, 3.0825], [18.945, 18.706241510860004, 22.638], [12.828, 11.408454709352256, 13.501], [10.957, 9.176288761073527, 7.0467], [13.175999999999998, 11.823630417530234, 14.692], [22.203000000000003, 22.593145123629704, 24.147], [5.2524, 2.3705090344295687, -1.22], [6.5894, 3.965595016711057, 5.9966], [9.2482, 7.137632869882349, 12.134], [5.8918, 3.1333347465243957, 1.8495], [8.2111, 5.9003376774933205, 6.5426], [7.9334, 5.56903223450187, 4.5623], [8.0959, 5.76290020168268, 4.1164], [5.6063, 2.7927236411082665, 3.3928], [12.835999999999999, 11.417998978505771, 10.117], [6.3534, 3.6840390766823115, 5.4974], [5.4069, 2.5548327324568616, 0.55657], [6.8825, 4.315273177823027, 3.9115], [11.708, 10.072257027859912, 5.3854], [5.7737, 2.9924374731456043, 2.4406], [7.8247, 5.439349477378462, 6.7318], [7.0931, 4.566526063289354, 1.0463], [5.0702, 2.153138304458225, 5.1337], [5.8014, 3.025484505089657, 1.844], [11.7, 10.062712758706395, 8.0043], [5.5416, 2.7155343643291996, 1.0179], [7.5402, 5.099931405606522, 6.7504], [5.3077, 2.4364837949532534, 1.8396], [7.4239, 4.9611815927872716, 4.2885], [7.6031, 5.174973221826049, 4.9981], [6.3328, 3.6594625836120063, 1.4233], [6.3589, 3.6906007617253556, -1.4211], [6.2742, 3.5895508120624973, 2.4756], [5.6397, 2.8325709648241997, 4.6042], [9.3102, 7.211600955822103, 3.9624], [9.4536, 7.382681980398891, 5.4141], [8.8254, 6.633218245118988, 5.1694], [5.1793, 2.28329827503931, -0.74279], [21.279, 21.490782036398514, 17.929000000000002], [14.908, 13.889964689266613, 12.054], [18.959, 18.722943981878657, 17.054000000000002], [7.2182, 4.715774572177473, 4.8852], [8.2951, 6.000552503605247, 5.7442], [10.236, 8.31611150361283, 7.7754], [5.4994, 2.665188344544399, 1.0173], [20.340999999999998, 20.371716478148674, 20.991999999999997], [10.136000000000001, 8.196808139193871, 6.6799], [7.3345, 4.854524384996724, 4.0259], [6.0062, 3.2698177954196845, 1.2784], [7.2259, 4.724960931237733, 3.3411], [5.0269, 2.1014799476648163, -2.6807], [6.5479, 3.916084120477189, 0.29678000000000004], [7.5386, 5.098022551775818, 3.8845], [5.0365, 2.112933070649036, 5.7014], [10.274000000000001, 8.361446782092035, 6.7526], [5.1077, 2.1978770661153355, 2.0576], [5.7292, 2.939347475979167, 0.47953], [5.1884, 2.294154881201435, 0.20421], [6.3557, 3.686783054063948, 0.67861], [9.7687, 7.758606881683033, 7.5435], [6.5159, 3.8779070438631216, 5.3436], [8.5172, 6.265525275979757, 4.2415], [9.1802, 7.056506582077455, 6.7981], [6.002000000000001, 3.2648070541140894, 0.92695], [5.5204, 2.6902420510723806, 0.152], [5.0594, 2.1402535411009778, 2.8214], [5.7077, 2.913697252629091, 1.8451], [7.6366, 5.214939848906399, 4.2959], [5.8707, 3.1081617366319954, 7.2029], [5.3054, 2.4337398175716176, 1.9869], [8.2934, 5.998524346410125, 0.14454], [13.394, 12.083711751963568, 9.0551], [5.4369, 2.590623741782549, 0.61705]]}, \"id\": \"el440564658741088\", \"plugins\": [{\"type\": \"reset\"}, {\"type\": \"zoom\", \"button\": true, \"enabled\": false}, {\"type\": \"boxzoom\", \"button\": true, \"enabled\": false}]});\n",
       "            })\n",
       "         });\n",
       "}\n",
       "</script>"
      ],
      "text/plain": [
       "<matplotlib.figure.Figure at 0x115aebf60>"
      ]
     },
     "metadata": {},
     "output_type": "display_data"
    }
   ],
   "source": [
    "plt.plot(xs, my_regression_model.predict(xs))\n",
    "plt.scatter(xs, ys)\n",
    "plt.show()"
   ]
  },
  {
   "cell_type": "code",
   "execution_count": 82,
   "metadata": {
    "collapsed": false
   },
   "outputs": [
    {
     "name": "stdout",
     "output_type": "stream",
     "text": [
      "2.33\n"
     ]
    }
   ],
   "source": [
    "error = 0.\n",
    "for i in range(len(xs)):\n",
    "    error += math.fabs(my_regression_model.predict(xs)[i] - xs['A'][i])\n",
    "print(\"{0:.2f}\".format(error/len(xs)))"
   ]
  },
  {
   "cell_type": "code",
   "execution_count": null,
   "metadata": {
    "collapsed": true
   },
   "outputs": [],
   "source": []
  }
 ],
 "metadata": {
  "anaconda-cloud": {},
  "kernelspec": {
   "display_name": "tftut",
   "language": "python",
   "name": "tftut"
  },
  "language_info": {
   "codemirror_mode": {
    "name": "ipython",
    "version": 3
   },
   "file_extension": ".py",
   "mimetype": "text/x-python",
   "name": "python",
   "nbconvert_exporter": "python",
   "pygments_lexer": "ipython3",
   "version": "3.6.0"
  }
 },
 "nbformat": 4,
 "nbformat_minor": 1
}
