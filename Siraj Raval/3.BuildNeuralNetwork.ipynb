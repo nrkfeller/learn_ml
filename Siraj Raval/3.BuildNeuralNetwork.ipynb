{
 "cells": [
  {
   "cell_type": "code",
   "execution_count": 51,
   "metadata": {
    "collapsed": true
   },
   "outputs": [],
   "source": [
    "# Perceptron feedforward neural network\n",
    "import numpy as np"
   ]
  },
  {
   "cell_type": "code",
   "execution_count": 52,
   "metadata": {
    "collapsed": true
   },
   "outputs": [],
   "source": [
    "class NeuralNetwork(object):\n",
    "    def __init__(self):\n",
    "        np.random.seed(1)\n",
    "        self.weights = 2*np.random.random((3,1)) - 1\n",
    "        \n",
    "    def __sigmoid(self, x):\n",
    "        return 1/(1-np.exp(-x))\n",
    "    \n",
    "    def __sigmoid_derivative(self, x):\n",
    "        return x * (1-x)\n",
    "    \n",
    "    def train(self, inputs, labels, number_of_iterations):\n",
    "        for i in range(number_of_iterations):\n",
    "            outputs = self.think(inputs)\n",
    "            error = labels - outputs\n",
    "            adjustment = np.dot(inputs.T, error*self.__sigmoid_derivative(outputs))\n",
    "            self.weights += adjustment\n",
    "    \n",
    "    def think(self, inputs):\n",
    "        return self.__sigmoid(np.dot(inputs, self.weights))"
   ]
  },
  {
   "cell_type": "code",
   "execution_count": 53,
   "metadata": {
    "collapsed": false
   },
   "outputs": [
    {
     "name": "stdout",
     "output_type": "stream",
     "text": [
      "before weights [[-0.16595599]\n",
      " [ 0.44064899]\n",
      " [-0.99977125]]\n",
      "after weights [[ -4.65623583]\n",
      " [ -7.2506431 ]\n",
      " [-10.18678964]]\n",
      "prediction [-0.00959332]\n"
     ]
    }
   ],
   "source": [
    "nn = NeuralNetwork()\n",
    "\n",
    "print('before weights', nn.weights)\n",
    "\n",
    "training_set = np.array([[0,0,1], [1,1,1], [1,0,1], [0,1,1]])\n",
    "training_label = np.array([[0,1,1,0]]).T\n",
    "\n",
    "nn.train(training_set, training_label, 10000)\n",
    "\n",
    "print('after weights', nn.weights)\n",
    "print('prediction', nn.think(np.array([1,0,0])))"
   ]
  },
  {
   "cell_type": "markdown",
   "metadata": {},
   "source": [
    "# 3 Layer Neural Network"
   ]
  },
  {
   "cell_type": "code",
   "execution_count": 14,
   "metadata": {
    "collapsed": false
   },
   "outputs": [],
   "source": [
    "import numpy as np\n",
    "class NeuralNetwork(object):\n",
    "    def __init__(self):\n",
    "        np.random.seed(1)\n",
    "        l2 = 5\n",
    "        l3 = 4\n",
    "        self.weights1 = 2*np.random.random((3,l2)) - 1\n",
    "        self.weights2 = 2*np.random.random((l2,l3)) - 1\n",
    "        self.weights3 = 2*np.random.random((l3,1)) -1\n",
    "    \n",
    "    def __sigmoid(self,x):\n",
    "        return 1/(1-np.exp(-x))\n",
    "    \n",
    "    def __sigmoid_derivative(self, x):\n",
    "        return x * (1-x)\n",
    "    \n",
    "    def train(self, inputs, labels, iterations):\n",
    "        for i in range(iterations):\n",
    "            a2 = self.__sigmoid(np.dot(inputs, self.weights1))\n",
    "            a3 = self.__sigmoid(np.dot(a2, self.weights2))\n",
    "            output = self.__sigmoid(np.dot(a3, self.weights3))\n",
    "            \n",
    "            del4 = (labels - output)*self.__sigmoid_derivative(output)\n",
    "            del3 = np.dot(self.weights3, del4.T) * self.__sigmoid_derivative(a3).T\n",
    "            del2 = np.dot(self.weights2, del3.T) * self.__sigmoid_derivative(a2).T\n",
    "            \n",
    "            adjust3 = np.dot(a3.T, del4)\n",
    "            adjust2 = np.dot(a2.T, del3.T)\n",
    "            adjust1 = np.dot(inputs.T, del2.T)\n",
    "            \n",
    "            self.weights1 += adjust1\n",
    "            self.weights2 += adjust2\n",
    "            self.weights3 += adjust3\n",
    "            \n",
    "    def forward_pass(self,inputs):\n",
    "        a2 = self.__sigmoid(np.dot(inputs, self.weights1))\n",
    "        a3 = self.__sigmoid(np.dot(a2, self.weights2))\n",
    "        output = self.__sigmoid(np.dot(a3, self.weights3))\n",
    "        return output"
   ]
  },
  {
   "cell_type": "code",
   "execution_count": 18,
   "metadata": {
    "collapsed": false
   },
   "outputs": [
    {
     "name": "stderr",
     "output_type": "stream",
     "text": [
      "/Users/nicolasfeller/work/src/github.com/nrkfeller/tensorflowtutorial/tftut/lib/python3.6/site-packages/ipykernel/__main__.py:12: RuntimeWarning: overflow encountered in exp\n"
     ]
    },
    {
     "name": "stdout",
     "output_type": "stream",
     "text": [
      "[ -3.66196515e-12]\n"
     ]
    }
   ],
   "source": [
    "nn = NeuralNetwork()\n",
    "\n",
    "train_set = np.array([[0,0,1], [1,1,1], [1,0,1], [0,1,1]])\n",
    "train_label = np.array([[0,1,1,0]]).T\n",
    "\n",
    "nn.train(train_set, train_label, 10000)\n",
    "\n",
    "print(nn.forward_pass([1,0,1]))"
   ]
  },
  {
   "cell_type": "code",
   "execution_count": null,
   "metadata": {
    "collapsed": true
   },
   "outputs": [],
   "source": []
  }
 ],
 "metadata": {
  "anaconda-cloud": {},
  "kernelspec": {
   "display_name": "tftut",
   "language": "python",
   "name": "tftut"
  },
  "language_info": {
   "codemirror_mode": {
    "name": "ipython",
    "version": 3
   },
   "file_extension": ".py",
   "mimetype": "text/x-python",
   "name": "python",
   "nbconvert_exporter": "python",
   "pygments_lexer": "ipython3",
   "version": "3.6.0"
  }
 },
 "nbformat": 4,
 "nbformat_minor": 1
}
