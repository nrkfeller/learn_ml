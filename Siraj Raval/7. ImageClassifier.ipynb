{
 "cells": [
  {
   "cell_type": "code",
   "execution_count": 3,
   "metadata": {
    "collapsed": false
   },
   "outputs": [
    {
     "name": "stdout",
     "output_type": "stream",
     "text": [
      "Requirement already satisfied: pillow in /Users/nicolasfeller/anaconda/lib/python3.5/site-packages\n",
      "Requirement already satisfied: keras in /Users/nicolasfeller/anaconda/lib/python3.5/site-packages\n",
      "Requirement already satisfied: pyyaml in /Users/nicolasfeller/anaconda/lib/python3.5/site-packages (from keras)\n",
      "Requirement already satisfied: theano in /Users/nicolasfeller/anaconda/lib/python3.5/site-packages (from keras)\n",
      "Requirement already satisfied: six in /Users/nicolasfeller/anaconda/lib/python3.5/site-packages (from keras)\n",
      "Requirement already satisfied: numpy>=1.7.1 in /Users/nicolasfeller/anaconda/lib/python3.5/site-packages (from theano->keras)\n",
      "Requirement already satisfied: scipy>=0.11 in /Users/nicolasfeller/anaconda/lib/python3.5/site-packages (from theano->keras)\n",
      "Collecting tensorflow\n",
      "  Downloading tensorflow-1.0.1-cp35-cp35m-macosx_10_11_x86_64.whl (39.6MB)\n",
      "\u001b[K    100% |████████████████████████████████| 39.6MB 18kB/s \n",
      "\u001b[?25hRequirement already satisfied: numpy>=1.11.0 in /Users/nicolasfeller/anaconda/lib/python3.5/site-packages (from tensorflow)\n",
      "Requirement already satisfied: wheel>=0.26 in /Users/nicolasfeller/anaconda/lib/python3.5/site-packages (from tensorflow)\n",
      "Requirement already satisfied: six>=1.10.0 in /Users/nicolasfeller/anaconda/lib/python3.5/site-packages (from tensorflow)\n",
      "Requirement already satisfied: protobuf>=3.1.0 in /Users/nicolasfeller/anaconda/lib/python3.5/site-packages (from tensorflow)\n",
      "Requirement already satisfied: setuptools in /Users/nicolasfeller/anaconda/lib/python3.5/site-packages/setuptools-27.2.0-py3.5.egg (from protobuf>=3.1.0->tensorflow)\n",
      "Installing collected packages: tensorflow\n",
      "Successfully installed tensorflow-1.0.1\n",
      "Using TensorFlow backend.\n"
     ]
    }
   ],
   "source": [
    "!pip install pillow\n",
    "!pip install keras\n",
    "!pip install tensorflow\n",
    "!KERAS_BACKEND=tensorflow python -c \"from keras import backend\""
   ]
  },
  {
   "cell_type": "code",
   "execution_count": 5,
   "metadata": {
    "collapsed": false
   },
   "outputs": [],
   "source": [
    "import numpy as np\n",
    "import os\n",
    "from keras.models import Sequential\n",
    "from keras.layers import Activation, Dropout, Flatten, Dense\n",
    "from keras.preprocessing.image import ImageDataGenerator\n",
    "from keras.layers import Convolution2D, MaxPooling2D, ZeroPadding2D\n",
    "from keras import optimizers"
   ]
  },
  {
   "cell_type": "code",
   "execution_count": 7,
   "metadata": {
    "collapsed": true
   },
   "outputs": [],
   "source": [
    "img_width, img_height = 150,150\n",
    "train_data_dir = 'data/train'\n",
    "validation_data_dir = 'data/validation'"
   ]
  },
  {
   "cell_type": "code",
   "execution_count": null,
   "metadata": {
    "collapsed": true
   },
   "outputs": [],
   "source": [
    "datagen = ImageDataGenerator(rescale=1./255)\n",
    "train_generator = datagen.flow_from_directory(\n",
    "        train_data_dir,\n",
    "        target_size=(img_width,img_height),\n",
    "        batch_size=16,\n",
    "        class_model='binary')\n",
    "validation_generator= datagen.flow_from_directory(\n",
    "        validation_data_dir,\n",
    "        target_size=(img_width, img_height),\n",
    "        batch_size=32,\n",
    "        class_model='binary')"
   ]
  }
 ],
 "metadata": {
  "anaconda-cloud": {},
  "kernelspec": {
   "display_name": "tftut",
   "language": "python",
   "name": "tftut"
  },
  "language_info": {
   "codemirror_mode": {
    "name": "ipython",
    "version": 3
   },
   "file_extension": ".py",
   "mimetype": "text/x-python",
   "name": "python",
   "nbconvert_exporter": "python",
   "pygments_lexer": "ipython3",
   "version": "3.6.0"
  }
 },
 "nbformat": 4,
 "nbformat_minor": 1
}
