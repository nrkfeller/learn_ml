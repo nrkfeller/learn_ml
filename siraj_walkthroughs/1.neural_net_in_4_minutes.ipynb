{
 "cells": [
  {
   "cell_type": "code",
   "execution_count": 12,
   "metadata": {
    "collapsed": false
   },
   "outputs": [],
   "source": [
    "import numpy as np\n",
    "\n",
    "# input data\n",
    "X = np.array([[0,0,1],\n",
    "             [0,1,1],\n",
    "             [1,0,1],\n",
    "             [1,1,1]])\n",
    "\n",
    "# labels\n",
    "y = np.array([[0],\n",
    "             [1],\n",
    "             [1],\n",
    "             [0]])\n",
    "np.random.seed(1)"
   ]
  },
  {
   "cell_type": "code",
   "execution_count": 11,
   "metadata": {
    "collapsed": false
   },
   "outputs": [
    {
     "name": "stdout",
     "output_type": "stream",
     "text": [
      "current error 0.498994940756\n",
      "current error 0.374416996447\n",
      "current error 0.365878302558\n",
      "current error 0.427022594372\n",
      "current error 0.357621999937\n",
      "current error 0.333914961688\n",
      "output after training\n",
      "[[ 0.08400535]\n",
      " [ 0.59201167]\n",
      " [ 0.40283274]\n",
      " [ 0.31384491]]\n"
     ]
    }
   ],
   "source": [
    "def non_linear(x, deriv=False):\n",
    "    if (deriv == True):\n",
    "        return x*(1-x)\n",
    "    return 1/(1+np.exp(-x))\n",
    "\n",
    "synapse0 = 2*np.random.random((3,4)) -1\n",
    "synapse1 = 2*np.random.random((4,1)) -1\n",
    "\n",
    "for j in range(60000):\n",
    "    l0 = X\n",
    "    \n",
    "    l1 = non_linear(np.dot(l0, synapse0))\n",
    "    l2 = non_linear(np.dot(l1, synapse1))\n",
    "    \n",
    "    l2_error = y - l2\n",
    "    \n",
    "    if (j %10000) == 0:\n",
    "        print(\"current error\", str(np.mean(np.abs(l2_error))))\n",
    "        \n",
    "    l2_delta = l2_error*non_linear(l2, deriv=True)\n",
    "    \n",
    "    l1_error = l2_delta.dot(synapse1.T)\n",
    "    \n",
    "    l1_delta = l1_error*non_linear(l1, deriv=True)\n",
    "    \n",
    "    synapse1 += l1.T.dot(l2_delta)\n",
    "    synapse0 += l2.T.dot(l1_delta)\n",
    "    \n",
    "print(\"output after training\")\n",
    "print(l2)"
   ]
  }
 ],
 "metadata": {
  "anaconda-cloud": {},
  "kernelspec": {
   "display_name": "tftut",
   "language": "python",
   "name": "tftut"
  },
  "language_info": {
   "codemirror_mode": {
    "name": "ipython",
    "version": 3
   },
   "file_extension": ".py",
   "mimetype": "text/x-python",
   "name": "python",
   "nbconvert_exporter": "python",
   "pygments_lexer": "ipython3",
   "version": "3.6.0"
  }
 },
 "nbformat": 4,
 "nbformat_minor": 1
}
