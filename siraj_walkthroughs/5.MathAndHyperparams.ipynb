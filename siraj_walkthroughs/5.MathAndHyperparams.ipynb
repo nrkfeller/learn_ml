{
 "cells": [
  {
   "cell_type": "code",
   "execution_count": 13,
   "metadata": {
    "collapsed": true
   },
   "outputs": [],
   "source": [
    "import numpy as np\n",
    "import tensorflow as tf\n",
    "import pandas as pd\n",
    "import matplotlib.pyplot as plt\n",
    "%matplotlib inline"
   ]
  },
  {
   "cell_type": "code",
   "execution_count": 14,
   "metadata": {
    "collapsed": false
   },
   "outputs": [
    {
     "data": {
      "text/plain": [
       "array([ 6. ,  5.8,  6.2, ...,  5.9,  6.3,  5.5])"
      ]
     },
     "execution_count": 14,
     "metadata": {},
     "output_type": "execute_result"
    }
   ],
   "source": [
    "df = pd.read_csv('data/database.csv')\n",
    "features = df[['Latitude', 'Longitude', 'Depth']]\n",
    "labels = df['Magnitude']\n",
    "\n",
    "features_in = features.as_matrix()\n",
    "labels_in = labels.as_matrix()\n",
    "features_in.astype(float, copy=False)\n",
    "labels_in.astype(float, copy=False)"
   ]
  },
  {
   "cell_type": "code",
   "execution_count": 15,
   "metadata": {
    "collapsed": false
   },
   "outputs": [],
   "source": [
    "features_max = np.amax(features_in, 0)\n",
    "features_min = np.amin(features_in, 0)\n",
    "\n",
    "labels_max = np.amax(labels_in, 0)\n",
    "labels_min = np.amin(labels_in, 0)\n",
    "\n",
    "feature_norm = (features_in-features_min)/(features_max-features_min)\n",
    "label_norm = (labels_in-labels_min)/(labels_max-labels_min)\n",
    "\n",
    "Xfeature = 3\n",
    "Yfeature = 1\n",
    "samples = 23000\n",
    "\n",
    "features_in_reshape = np.resize(feature_norm, (samples, Xfeature))\n",
    "labels_in_reshape = np.resize(label_norm, (samples, Yfeature))"
   ]
  },
  {
   "cell_type": "code",
   "execution_count": 16,
   "metadata": {
    "collapsed": true
   },
   "outputs": [],
   "source": [
    "batch_size = 20000\n",
    "train_features = features_in_reshape[0:batch_size,:]\n",
    "train_labels = labels_in_reshape[0:batch_size,:]\n",
    "\n",
    "valid_size = 2500\n",
    "valid_features = features_in_reshape[batch_size:batch_size+valid_size,:]\n",
    "valid_labels = labels_in_reshape[batch_size:batch_size+valid_size,:]"
   ]
  },
  {
   "cell_type": "code",
   "execution_count": 17,
   "metadata": {
    "collapsed": true
   },
   "outputs": [],
   "source": [
    "# hyperparams\n",
    "learning_rate = 0.001\n",
    "training_iterations = 100000\n",
    "display_iterations = 20000"
   ]
  },
  {
   "cell_type": "code",
   "execution_count": 18,
   "metadata": {
    "collapsed": false
   },
   "outputs": [
    {
     "data": {
      "text/plain": [
       "<tf.Tensor 'Placeholder_2:0' shape=(?, 3) dtype=float32>"
      ]
     },
     "execution_count": 18,
     "metadata": {},
     "output_type": "execute_result"
    }
   ],
   "source": [
    "X = tf.placeholder(tf.float32, shape=(None,Xfeature))\n",
    "Y = tf.placeholder(tf.float32)\n",
    "X"
   ]
  },
  {
   "cell_type": "code",
   "execution_count": 7,
   "metadata": {
    "collapsed": false
   },
   "outputs": [],
   "source": [
    "L1 = 3\n",
    "L2 = 3\n",
    "L3 = 3\n",
    "\n",
    "graph = tf.Graph()\n",
    "with graph.as_default():\n",
    "\n",
    "weights1 = tf.Variable(tf.random_uniform([Xfeature,L1]))\n",
    "biases1 = tf.Variable(tf.constant(0.1, shape=[L1]))\n",
    "\n",
    "weights2 = tf.Variable(tf.random_uniform([L1,L2]))\n",
    "biases2 = tf.Variable(tf.constant(0.1, shape=[L2]))\n",
    "\n",
    "weights3 = tf.Variable(tf.random_uniform([L2, L3]))\n",
    "biases3 = tf.Variable(tf.constant(0.1, shape=[L3]))\n",
    "\n",
    "weights_out = tf.Variable(tf.random_uniform([L3, Yfeature]))\n",
    "biases_out = tf.Variable(tf.constant(0.1, shape=[Yfeature]))"
   ]
  },
  {
   "cell_type": "code",
   "execution_count": 8,
   "metadata": {
    "collapsed": false
   },
   "outputs": [],
   "source": [
    "layer1 = tf.matmul(X, weights1) + biases1\n",
    "relu1 = tf.nn.relu(layer1)\n",
    "\n",
    "layer2 = tf.matmul(relu1, weights2) + biases2\n",
    "relu2 = tf.nn.relu(layer2)\n",
    "\n",
    "layer3 = tf.matmul(layer2, weights2) + biases3\n",
    "relu3 = tf.nn.relu(layer3)\n",
    "\n",
    "layer_out = tf.matmul(layer3, weights_out) + biases_out"
   ]
  },
  {
   "cell_type": "code",
   "execution_count": 9,
   "metadata": {
    "collapsed": true
   },
   "outputs": [],
   "source": [
    "mean_square = tf.reduce_mean(tf.square(Y-layer_out))\n",
    "train_step = tf.train.AdamOptimizer(learning_rate).minimize(mean_square)\n",
    "\n",
    "saver = tf.train.Saver()"
   ]
  },
  {
   "cell_type": "code",
   "execution_count": 10,
   "metadata": {
    "collapsed": false
   },
   "outputs": [
    {
     "name": "stdout",
     "output_type": "stream",
     "text": [
      "Initial training loss [1.7608527]\n",
      "current loss is [1.717775]  at iteration  0\n",
      "validation loss is  [1.7164772]  at iteration  0\n",
      "current loss is [0.013594467]  at iteration  20000\n",
      "validation loss is  [0.01444915]  at iteration  20000\n",
      "current loss is [0.013594458]  at iteration  40000\n",
      "validation loss is  [0.014449173]  at iteration  40000\n",
      "current loss is [0.013594456]  at iteration  60000\n",
      "validation loss is  [0.014449234]  at iteration  60000\n",
      "current loss is [0.013594467]  at iteration  80000\n",
      "validation loss is  [0.014449217]  at iteration  80000\n",
      "model saved\n",
      "final training loss [0.013594456]\n",
      "final validation loss [0.014449218]\n"
     ]
    }
   ],
   "source": [
    "init = tf.global_variables_initializer()\n",
    "with tf.Session() as sess:\n",
    "    sess.run(init)\n",
    "    print(\"Initial training loss\", sess.run([mean_square], feed_dict={X:train_features, Y:train_labels}))\n",
    "    for i in range(training_iterations):\n",
    "        sess.run([train_step], feed_dict={X:train_features,Y:train_labels})\n",
    "        if i % display_iterations == 0:\n",
    "            print(\"current loss is\", sess.run([mean_square], feed_dict={X:train_features, Y:train_labels}), \" at iteration \", i)\n",
    "            print(\"validation loss is \", sess.run([mean_square], feed_dict={X:valid_features, Y:valid_labels}), \" at iteration \", i)\n",
    "    save_path = saver.save(sess, \"./data/earthquake.ckpt\")\n",
    "    print(\"model saved\")\n",
    "    print(\"final training loss\", sess.run([mean_square], feed_dict={X:train_features, Y:train_labels}))\n",
    "    print(\"final validation loss\", sess.run([mean_square], feed_dict={X:valid_features, Y:valid_labels}))"
   ]
  },
  {
   "cell_type": "code",
   "execution_count": null,
   "metadata": {
    "collapsed": true
   },
   "outputs": [],
   "source": []
  },
  {
   "cell_type": "code",
   "execution_count": null,
   "metadata": {
    "collapsed": true
   },
   "outputs": [],
   "source": []
  }
 ],
 "metadata": {
  "anaconda-cloud": {},
  "kernelspec": {
   "display_name": "tftut",
   "language": "python",
   "name": "tftut"
  },
  "language_info": {
   "codemirror_mode": {
    "name": "ipython",
    "version": 3
   },
   "file_extension": ".py",
   "mimetype": "text/x-python",
   "name": "python",
   "nbconvert_exporter": "python",
   "pygments_lexer": "ipython3",
   "version": "3.6.0"
  }
 },
 "nbformat": 4,
 "nbformat_minor": 1
}
