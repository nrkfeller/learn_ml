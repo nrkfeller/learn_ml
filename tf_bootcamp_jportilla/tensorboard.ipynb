{
  "nbformat": 4,
  "nbformat_minor": 0,
  "metadata": {
    "colab": {
      "name": "tensorboard.ipynb",
      "version": "0.3.2",
      "provenance": []
    }
  },
  "cells": [
    {
      "cell_type": "markdown",
      "metadata": {
        "id": "view-in-github",
        "colab_type": "text"
      },
      "source": [
        "[View in Colaboratory](https://colab.research.google.com/github/nrkfeller/learn_ml/blob/master/tensorboard.ipynb)"
      ]
    },
    {
      "metadata": {
        "id": "1uoLrg6KXoFO",
        "colab_type": "code",
        "colab": {}
      },
      "cell_type": "code",
      "source": [
        ""
      ],
      "execution_count": 0,
      "outputs": []
    },
    {
      "metadata": {
        "id": "AunfAIvjXrZB",
        "colab_type": "text"
      },
      "cell_type": "markdown",
      "source": [
        "# Tensorboard"
      ]
    },
    {
      "metadata": {
        "id": "0KHjtBU4Xs9l",
        "colab_type": "code",
        "colab": {
          "base_uri": "https://localhost:8080/",
          "height": 34
        },
        "outputId": "a45ac460-977a-4372-eab1-ef04f63dbc57"
      },
      "cell_type": "code",
      "source": [
        "import tensorflow as tf\n",
        "\n",
        "a = tf.add(1,2, name='my_first_addition')\n",
        "b = tf.add(4,5, name='my_second_addition')\n",
        "\n",
        "c = tf.multiply(a,b, name='multiply_both_additions')\n",
        "\n",
        "with tf.Session() as sess:\n",
        "  writer = tf.summary.FileWriter('/output', sess.graph)\n",
        "  print(sess.run(c))"
      ],
      "execution_count": 15,
      "outputs": [
        {
          "output_type": "stream",
          "text": [
            "27\n"
          ],
          "name": "stdout"
        }
      ]
    },
    {
      "metadata": {
        "id": "tSP7uZ2nYHEf",
        "colab_type": "text"
      },
      "cell_type": "markdown",
      "source": [
        "1. activate environment\n",
        "2. run tensorboard ```tensorboard ==logdir='output'```"
      ]
    },
    {
      "metadata": {
        "id": "QdtxgcQzX4vi",
        "colab_type": "code",
        "colab": {
          "base_uri": "https://localhost:8080/",
          "height": 34
        },
        "outputId": "5c03f585-312e-4f82-a93c-0b7390db3a05"
      },
      "cell_type": "code",
      "source": [
        "# Scope - makes it easier to visualize graphs that are complicated\n",
        "import tensorflow as tf\n",
        "\n",
        "with tf.name_scope(\"OPA\"):\n",
        "  a = tf.add(1,2, name='my_first_addition')\n",
        "  a1 = tf.add(1324, 2546, name='a_add')\n",
        "  a2 = tf.multiply(a,a1, name='mult_as')\n",
        "\n",
        "with tf.name_scope('OPB'):\n",
        "  b = tf.add(4,5, name='my_second_addition')\n",
        "  b1 = tf.add(124,5436, name='b_add')\n",
        "  b2 = tf.multiply(b,b1, name='mult_bs')\n",
        "\n",
        "c = tf.multiply(a2,b2, name='multiply_both_additions')\n",
        "\n",
        "with tf.Session() as sess:\n",
        "    writer = tf.summary.FileWriter(\"./output\",sess.graph)\n",
        "    print(sess.run(c))\n",
        "    writer.close()"
      ],
      "execution_count": 16,
      "outputs": [
        {
          "output_type": "stream",
          "text": [
            "580964400\n"
          ],
          "name": "stdout"
        }
      ]
    },
    {
      "metadata": {
        "id": "SDHVpeP1ZPYu",
        "colab_type": "code",
        "colab": {}
      },
      "cell_type": "code",
      "source": [
        "# Summaries page on tensorboard\n",
        "tf.reset_default_graph()\n",
        "\n",
        "k = tf.placeholder(tf.float32)\n",
        "mean_moving_normal = tf.random_normal(shape=[1000], mean=(5*k), stddev=1)\n",
        "tf.summary.histogram(\"normal/moving_mean\", mean_moving_normal)\n",
        "\n",
        "with tf.Session() as sess:\n",
        "    writer = tf.summary.FileWriter(\"./tmp/histogram_example\")\n",
        "\n",
        "    summaries = tf.summary.merge_all()\n",
        "    N = 400\n",
        "    for step in range(N):\n",
        "        \n",
        "        k_val = step/float(N)\n",
        "        summ = sess.run(summaries, feed_dict={k: k_val})\n",
        "        writer.add_summary(summ, global_step=step)\n",
        "        \n",
        "    writer.close()"
      ],
      "execution_count": 0,
      "outputs": []
    },
    {
      "metadata": {
        "id": "Pka9lpGqad47",
        "colab_type": "code",
        "colab": {}
      },
      "cell_type": "code",
      "source": [
        ""
      ],
      "execution_count": 0,
      "outputs": []
    }
  ]
}